{
 "cells": [
  {
   "cell_type": "markdown",
   "id": "b4bf315f",
   "metadata": {},
   "source": [
    "# DOMAIN: ELECTION"
   ]
  },
  {
   "cell_type": "code",
   "execution_count": 1,
   "id": "c3598fd5",
   "metadata": {},
   "outputs": [],
   "source": [
    "#importing required libraries\n",
    "import pandas as pd\n",
    "import numpy as np\n",
    "import matplotlib.pyplot as plt\n",
    "import seaborn as sns"
   ]
  },
  {
   "cell_type": "code",
   "execution_count": 2,
   "id": "92f5f82d",
   "metadata": {},
   "outputs": [],
   "source": [
    "data=pd.read_csv('election_results.csv')"
   ]
  },
  {
   "cell_type": "code",
   "execution_count": 3,
   "id": "b20f880d",
   "metadata": {},
   "outputs": [
    {
     "data": {
      "text/html": [
       "<div>\n",
       "<style scoped>\n",
       "    .dataframe tbody tr th:only-of-type {\n",
       "        vertical-align: middle;\n",
       "    }\n",
       "\n",
       "    .dataframe tbody tr th {\n",
       "        vertical-align: top;\n",
       "    }\n",
       "\n",
       "    .dataframe thead th {\n",
       "        text-align: right;\n",
       "    }\n",
       "</style>\n",
       "<table border=\"1\" class=\"dataframe\">\n",
       "  <thead>\n",
       "    <tr style=\"text-align: right;\">\n",
       "      <th></th>\n",
       "      <th>STATE</th>\n",
       "      <th>CONSTITUENCY</th>\n",
       "      <th>NAME</th>\n",
       "      <th>WINNER</th>\n",
       "      <th>PARTY</th>\n",
       "      <th>SYMBOL</th>\n",
       "      <th>GENDER</th>\n",
       "      <th>CRIMINAL\\nCASES</th>\n",
       "      <th>AGE</th>\n",
       "      <th>CATEGORY</th>\n",
       "      <th>EDUCATION</th>\n",
       "      <th>ASSETS</th>\n",
       "      <th>LIABILITIES</th>\n",
       "      <th>GENERAL\\nVOTES</th>\n",
       "      <th>POSTAL\\nVOTES</th>\n",
       "      <th>TOTAL\\nVOTES</th>\n",
       "      <th>OVER TOTAL ELECTORS \\nIN CONSTITUENCY</th>\n",
       "      <th>OVER TOTAL VOTES POLLED \\nIN CONSTITUENCY</th>\n",
       "      <th>TOTAL ELECTORS</th>\n",
       "    </tr>\n",
       "  </thead>\n",
       "  <tbody>\n",
       "    <tr>\n",
       "      <th>0</th>\n",
       "      <td>Telangana</td>\n",
       "      <td>ADILABAD</td>\n",
       "      <td>SOYAM BAPU RAO</td>\n",
       "      <td>1</td>\n",
       "      <td>BJP</td>\n",
       "      <td>Lotus</td>\n",
       "      <td>MALE</td>\n",
       "      <td>52</td>\n",
       "      <td>52.0</td>\n",
       "      <td>ST</td>\n",
       "      <td>12th Pass</td>\n",
       "      <td>Rs 30,99,414\\n ~ 30 Lacs+</td>\n",
       "      <td>Rs 2,31,450\\n ~ 2 Lacs+</td>\n",
       "      <td>376892</td>\n",
       "      <td>482</td>\n",
       "      <td>377374</td>\n",
       "      <td>25.330684</td>\n",
       "      <td>35.468248</td>\n",
       "      <td>1489790</td>\n",
       "    </tr>\n",
       "    <tr>\n",
       "      <th>1</th>\n",
       "      <td>Telangana</td>\n",
       "      <td>ADILABAD</td>\n",
       "      <td>Godam Nagesh</td>\n",
       "      <td>0</td>\n",
       "      <td>TRS</td>\n",
       "      <td>Car</td>\n",
       "      <td>MALE</td>\n",
       "      <td>0</td>\n",
       "      <td>54.0</td>\n",
       "      <td>ST</td>\n",
       "      <td>Post Graduate</td>\n",
       "      <td>Rs 1,84,77,888\\n ~ 1 Crore+</td>\n",
       "      <td>Rs 8,47,000\\n ~ 8 Lacs+</td>\n",
       "      <td>318665</td>\n",
       "      <td>149</td>\n",
       "      <td>318814</td>\n",
       "      <td>21.399929</td>\n",
       "      <td>29.964370</td>\n",
       "      <td>1489790</td>\n",
       "    </tr>\n",
       "    <tr>\n",
       "      <th>2</th>\n",
       "      <td>Telangana</td>\n",
       "      <td>ADILABAD</td>\n",
       "      <td>RATHOD RAMESH</td>\n",
       "      <td>0</td>\n",
       "      <td>INC</td>\n",
       "      <td>Hand</td>\n",
       "      <td>MALE</td>\n",
       "      <td>3</td>\n",
       "      <td>52.0</td>\n",
       "      <td>ST</td>\n",
       "      <td>12th Pass</td>\n",
       "      <td>Rs 3,64,91,000\\n ~ 3 Crore+</td>\n",
       "      <td>Rs 1,53,00,000\\n ~ 1 Crore+</td>\n",
       "      <td>314057</td>\n",
       "      <td>181</td>\n",
       "      <td>314238</td>\n",
       "      <td>21.092771</td>\n",
       "      <td>29.534285</td>\n",
       "      <td>1489790</td>\n",
       "    </tr>\n",
       "    <tr>\n",
       "      <th>3</th>\n",
       "      <td>Telangana</td>\n",
       "      <td>ADILABAD</td>\n",
       "      <td>NOTA</td>\n",
       "      <td>0</td>\n",
       "      <td>NOTA</td>\n",
       "      <td>NaN</td>\n",
       "      <td>NaN</td>\n",
       "      <td>NaN</td>\n",
       "      <td>NaN</td>\n",
       "      <td>NaN</td>\n",
       "      <td>NaN</td>\n",
       "      <td>NaN</td>\n",
       "      <td>NaN</td>\n",
       "      <td>13030</td>\n",
       "      <td>6</td>\n",
       "      <td>13036</td>\n",
       "      <td>0.875023</td>\n",
       "      <td>1.225214</td>\n",
       "      <td>1489790</td>\n",
       "    </tr>\n",
       "    <tr>\n",
       "      <th>4</th>\n",
       "      <td>Uttar Pradesh</td>\n",
       "      <td>AGRA</td>\n",
       "      <td>Satyapal Singh Baghel</td>\n",
       "      <td>1</td>\n",
       "      <td>BJP</td>\n",
       "      <td>Lotus</td>\n",
       "      <td>MALE</td>\n",
       "      <td>5</td>\n",
       "      <td>58.0</td>\n",
       "      <td>SC</td>\n",
       "      <td>Doctorate</td>\n",
       "      <td>Rs 7,42,74,036\\n ~ 7 Crore+</td>\n",
       "      <td>Rs 86,06,522\\n ~ 86 Lacs+</td>\n",
       "      <td>644459</td>\n",
       "      <td>2416</td>\n",
       "      <td>646875</td>\n",
       "      <td>33.383823</td>\n",
       "      <td>56.464615</td>\n",
       "      <td>1937690</td>\n",
       "    </tr>\n",
       "  </tbody>\n",
       "</table>\n",
       "</div>"
      ],
      "text/plain": [
       "           STATE CONSTITUENCY                   NAME  WINNER PARTY SYMBOL  \\\n",
       "0      Telangana     ADILABAD         SOYAM BAPU RAO       1   BJP  Lotus   \n",
       "1      Telangana     ADILABAD           Godam Nagesh       0   TRS    Car   \n",
       "2      Telangana     ADILABAD          RATHOD RAMESH       0   INC   Hand   \n",
       "3      Telangana     ADILABAD                   NOTA       0  NOTA    NaN   \n",
       "4  Uttar Pradesh         AGRA  Satyapal Singh Baghel       1   BJP  Lotus   \n",
       "\n",
       "  GENDER CRIMINAL\\nCASES   AGE CATEGORY      EDUCATION  \\\n",
       "0   MALE              52  52.0       ST      12th Pass   \n",
       "1   MALE               0  54.0       ST  Post Graduate   \n",
       "2   MALE               3  52.0       ST      12th Pass   \n",
       "3    NaN             NaN   NaN      NaN            NaN   \n",
       "4   MALE               5  58.0       SC      Doctorate   \n",
       "\n",
       "                        ASSETS                  LIABILITIES  GENERAL\\nVOTES  \\\n",
       "0    Rs 30,99,414\\n ~ 30 Lacs+      Rs 2,31,450\\n ~ 2 Lacs+          376892   \n",
       "1  Rs 1,84,77,888\\n ~ 1 Crore+      Rs 8,47,000\\n ~ 8 Lacs+          318665   \n",
       "2  Rs 3,64,91,000\\n ~ 3 Crore+  Rs 1,53,00,000\\n ~ 1 Crore+          314057   \n",
       "3                          NaN                          NaN           13030   \n",
       "4  Rs 7,42,74,036\\n ~ 7 Crore+    Rs 86,06,522\\n ~ 86 Lacs+          644459   \n",
       "\n",
       "   POSTAL\\nVOTES  TOTAL\\nVOTES  OVER TOTAL ELECTORS \\nIN CONSTITUENCY  \\\n",
       "0            482        377374                              25.330684   \n",
       "1            149        318814                              21.399929   \n",
       "2            181        314238                              21.092771   \n",
       "3              6         13036                               0.875023   \n",
       "4           2416        646875                              33.383823   \n",
       "\n",
       "   OVER TOTAL VOTES POLLED \\nIN CONSTITUENCY  TOTAL ELECTORS  \n",
       "0                                  35.468248         1489790  \n",
       "1                                  29.964370         1489790  \n",
       "2                                  29.534285         1489790  \n",
       "3                                   1.225214         1489790  \n",
       "4                                  56.464615         1937690  "
      ]
     },
     "execution_count": 3,
     "metadata": {},
     "output_type": "execute_result"
    }
   ],
   "source": [
    "#to display the first few columns of the data\n",
    "data.head()"
   ]
  },
  {
   "cell_type": "code",
   "execution_count": 4,
   "id": "88ee6c5e",
   "metadata": {},
   "outputs": [
    {
     "data": {
      "text/plain": [
       "(2263, 19)"
      ]
     },
     "execution_count": 4,
     "metadata": {},
     "output_type": "execute_result"
    }
   ],
   "source": [
    "data.shape"
   ]
  },
  {
   "cell_type": "markdown",
   "id": "f0750987",
   "metadata": {},
   "source": [
    "There are 2263 observations and 19 features in the dataset."
   ]
  },
  {
   "cell_type": "code",
   "execution_count": 5,
   "id": "0e6607f1",
   "metadata": {},
   "outputs": [
    {
     "name": "stdout",
     "output_type": "stream",
     "text": [
      "<class 'pandas.core.frame.DataFrame'>\n",
      "RangeIndex: 2263 entries, 0 to 2262\n",
      "Data columns (total 19 columns):\n",
      " #   Column                                    Non-Null Count  Dtype  \n",
      "---  ------                                    --------------  -----  \n",
      " 0   STATE                                     2263 non-null   object \n",
      " 1   CONSTITUENCY                              2263 non-null   object \n",
      " 2   NAME                                      2263 non-null   object \n",
      " 3   WINNER                                    2263 non-null   int64  \n",
      " 4   PARTY                                     2263 non-null   object \n",
      " 5   SYMBOL                                    2018 non-null   object \n",
      " 6   GENDER                                    2018 non-null   object \n",
      " 7   CRIMINAL\n",
      "CASES                            2018 non-null   object \n",
      " 8   AGE                                       2018 non-null   float64\n",
      " 9   CATEGORY                                  2018 non-null   object \n",
      " 10  EDUCATION                                 2018 non-null   object \n",
      " 11  ASSETS                                    2018 non-null   object \n",
      " 12  LIABILITIES                               2018 non-null   object \n",
      " 13  GENERAL\n",
      "VOTES                             2263 non-null   int64  \n",
      " 14  POSTAL\n",
      "VOTES                              2263 non-null   int64  \n",
      " 15  TOTAL\n",
      "VOTES                               2263 non-null   int64  \n",
      " 16  OVER TOTAL ELECTORS \n",
      "IN CONSTITUENCY      2263 non-null   float64\n",
      " 17  OVER TOTAL VOTES POLLED \n",
      "IN CONSTITUENCY  2263 non-null   float64\n",
      " 18  TOTAL ELECTORS                            2263 non-null   int64  \n",
      "dtypes: float64(3), int64(5), object(11)\n",
      "memory usage: 336.0+ KB\n"
     ]
    }
   ],
   "source": [
    "data.info()"
   ]
  },
  {
   "cell_type": "code",
   "execution_count": 6,
   "id": "1b587b10",
   "metadata": {},
   "outputs": [
    {
     "data": {
      "text/html": [
       "<div>\n",
       "<style scoped>\n",
       "    .dataframe tbody tr th:only-of-type {\n",
       "        vertical-align: middle;\n",
       "    }\n",
       "\n",
       "    .dataframe tbody tr th {\n",
       "        vertical-align: top;\n",
       "    }\n",
       "\n",
       "    .dataframe thead th {\n",
       "        text-align: right;\n",
       "    }\n",
       "</style>\n",
       "<table border=\"1\" class=\"dataframe\">\n",
       "  <thead>\n",
       "    <tr style=\"text-align: right;\">\n",
       "      <th></th>\n",
       "      <th>WINNER</th>\n",
       "      <th>AGE</th>\n",
       "      <th>GENERAL\\nVOTES</th>\n",
       "      <th>POSTAL\\nVOTES</th>\n",
       "      <th>TOTAL\\nVOTES</th>\n",
       "      <th>OVER TOTAL ELECTORS \\nIN CONSTITUENCY</th>\n",
       "      <th>OVER TOTAL VOTES POLLED \\nIN CONSTITUENCY</th>\n",
       "      <th>TOTAL ELECTORS</th>\n",
       "    </tr>\n",
       "  </thead>\n",
       "  <tbody>\n",
       "    <tr>\n",
       "      <th>count</th>\n",
       "      <td>2263.000000</td>\n",
       "      <td>2018.000000</td>\n",
       "      <td>2.263000e+03</td>\n",
       "      <td>2263.000000</td>\n",
       "      <td>2.263000e+03</td>\n",
       "      <td>2263.000000</td>\n",
       "      <td>2263.000000</td>\n",
       "      <td>2.263000e+03</td>\n",
       "    </tr>\n",
       "    <tr>\n",
       "      <th>mean</th>\n",
       "      <td>0.238179</td>\n",
       "      <td>52.273538</td>\n",
       "      <td>2.615991e+05</td>\n",
       "      <td>990.710561</td>\n",
       "      <td>2.625898e+05</td>\n",
       "      <td>15.811412</td>\n",
       "      <td>23.190525</td>\n",
       "      <td>1.658016e+06</td>\n",
       "    </tr>\n",
       "    <tr>\n",
       "      <th>std</th>\n",
       "      <td>0.426064</td>\n",
       "      <td>11.869373</td>\n",
       "      <td>2.549906e+05</td>\n",
       "      <td>1602.839174</td>\n",
       "      <td>2.559822e+05</td>\n",
       "      <td>14.962861</td>\n",
       "      <td>21.564758</td>\n",
       "      <td>3.145187e+05</td>\n",
       "    </tr>\n",
       "    <tr>\n",
       "      <th>min</th>\n",
       "      <td>0.000000</td>\n",
       "      <td>25.000000</td>\n",
       "      <td>1.339000e+03</td>\n",
       "      <td>0.000000</td>\n",
       "      <td>1.342000e+03</td>\n",
       "      <td>0.097941</td>\n",
       "      <td>1.000039</td>\n",
       "      <td>5.518900e+04</td>\n",
       "    </tr>\n",
       "    <tr>\n",
       "      <th>25%</th>\n",
       "      <td>0.000000</td>\n",
       "      <td>43.250000</td>\n",
       "      <td>2.103450e+04</td>\n",
       "      <td>57.000000</td>\n",
       "      <td>2.116250e+04</td>\n",
       "      <td>1.296518</td>\n",
       "      <td>1.899502</td>\n",
       "      <td>1.530014e+06</td>\n",
       "    </tr>\n",
       "    <tr>\n",
       "      <th>50%</th>\n",
       "      <td>0.000000</td>\n",
       "      <td>52.000000</td>\n",
       "      <td>1.539340e+05</td>\n",
       "      <td>316.000000</td>\n",
       "      <td>1.544890e+05</td>\n",
       "      <td>10.510553</td>\n",
       "      <td>16.221721</td>\n",
       "      <td>1.679030e+06</td>\n",
       "    </tr>\n",
       "    <tr>\n",
       "      <th>75%</th>\n",
       "      <td>0.000000</td>\n",
       "      <td>61.000000</td>\n",
       "      <td>4.858040e+05</td>\n",
       "      <td>1385.000000</td>\n",
       "      <td>4.872315e+05</td>\n",
       "      <td>29.468185</td>\n",
       "      <td>42.590233</td>\n",
       "      <td>1.816857e+06</td>\n",
       "    </tr>\n",
       "    <tr>\n",
       "      <th>max</th>\n",
       "      <td>1.000000</td>\n",
       "      <td>86.000000</td>\n",
       "      <td>1.066824e+06</td>\n",
       "      <td>19367.000000</td>\n",
       "      <td>1.068569e+06</td>\n",
       "      <td>51.951012</td>\n",
       "      <td>74.411856</td>\n",
       "      <td>3.150313e+06</td>\n",
       "    </tr>\n",
       "  </tbody>\n",
       "</table>\n",
       "</div>"
      ],
      "text/plain": [
       "            WINNER          AGE  GENERAL\\nVOTES  POSTAL\\nVOTES  TOTAL\\nVOTES  \\\n",
       "count  2263.000000  2018.000000    2.263000e+03    2263.000000  2.263000e+03   \n",
       "mean      0.238179    52.273538    2.615991e+05     990.710561  2.625898e+05   \n",
       "std       0.426064    11.869373    2.549906e+05    1602.839174  2.559822e+05   \n",
       "min       0.000000    25.000000    1.339000e+03       0.000000  1.342000e+03   \n",
       "25%       0.000000    43.250000    2.103450e+04      57.000000  2.116250e+04   \n",
       "50%       0.000000    52.000000    1.539340e+05     316.000000  1.544890e+05   \n",
       "75%       0.000000    61.000000    4.858040e+05    1385.000000  4.872315e+05   \n",
       "max       1.000000    86.000000    1.066824e+06   19367.000000  1.068569e+06   \n",
       "\n",
       "       OVER TOTAL ELECTORS \\nIN CONSTITUENCY  \\\n",
       "count                            2263.000000   \n",
       "mean                               15.811412   \n",
       "std                                14.962861   \n",
       "min                                 0.097941   \n",
       "25%                                 1.296518   \n",
       "50%                                10.510553   \n",
       "75%                                29.468185   \n",
       "max                                51.951012   \n",
       "\n",
       "       OVER TOTAL VOTES POLLED \\nIN CONSTITUENCY  TOTAL ELECTORS  \n",
       "count                                2263.000000    2.263000e+03  \n",
       "mean                                   23.190525    1.658016e+06  \n",
       "std                                    21.564758    3.145187e+05  \n",
       "min                                     1.000039    5.518900e+04  \n",
       "25%                                     1.899502    1.530014e+06  \n",
       "50%                                    16.221721    1.679030e+06  \n",
       "75%                                    42.590233    1.816857e+06  \n",
       "max                                    74.411856    3.150313e+06  "
      ]
     },
     "execution_count": 6,
     "metadata": {},
     "output_type": "execute_result"
    }
   ],
   "source": [
    "data.describe()"
   ]
  },
  {
   "cell_type": "code",
   "execution_count": 7,
   "id": "376bd1eb",
   "metadata": {},
   "outputs": [
    {
     "data": {
      "text/html": [
       "<div>\n",
       "<style scoped>\n",
       "    .dataframe tbody tr th:only-of-type {\n",
       "        vertical-align: middle;\n",
       "    }\n",
       "\n",
       "    .dataframe tbody tr th {\n",
       "        vertical-align: top;\n",
       "    }\n",
       "\n",
       "    .dataframe thead th {\n",
       "        text-align: right;\n",
       "    }\n",
       "</style>\n",
       "<table border=\"1\" class=\"dataframe\">\n",
       "  <thead>\n",
       "    <tr style=\"text-align: right;\">\n",
       "      <th></th>\n",
       "      <th>STATE</th>\n",
       "      <th>CONSTITUENCY</th>\n",
       "      <th>NAME</th>\n",
       "      <th>PARTY</th>\n",
       "      <th>SYMBOL</th>\n",
       "      <th>GENDER</th>\n",
       "      <th>CRIMINAL\\nCASES</th>\n",
       "      <th>CATEGORY</th>\n",
       "      <th>EDUCATION</th>\n",
       "      <th>ASSETS</th>\n",
       "      <th>LIABILITIES</th>\n",
       "    </tr>\n",
       "  </thead>\n",
       "  <tbody>\n",
       "    <tr>\n",
       "      <th>count</th>\n",
       "      <td>2263</td>\n",
       "      <td>2263</td>\n",
       "      <td>2263</td>\n",
       "      <td>2263</td>\n",
       "      <td>2018</td>\n",
       "      <td>2018</td>\n",
       "      <td>2018</td>\n",
       "      <td>2018</td>\n",
       "      <td>2018</td>\n",
       "      <td>2018</td>\n",
       "      <td>2018</td>\n",
       "    </tr>\n",
       "    <tr>\n",
       "      <th>unique</th>\n",
       "      <td>36</td>\n",
       "      <td>539</td>\n",
       "      <td>2014</td>\n",
       "      <td>133</td>\n",
       "      <td>126</td>\n",
       "      <td>2</td>\n",
       "      <td>29</td>\n",
       "      <td>3</td>\n",
       "      <td>13</td>\n",
       "      <td>1979</td>\n",
       "      <td>1226</td>\n",
       "    </tr>\n",
       "    <tr>\n",
       "      <th>top</th>\n",
       "      <td>Uttar Pradesh</td>\n",
       "      <td>AURANGABAD</td>\n",
       "      <td>NOTA</td>\n",
       "      <td>BJP</td>\n",
       "      <td>Lotus</td>\n",
       "      <td>MALE</td>\n",
       "      <td>0</td>\n",
       "      <td>GENERAL</td>\n",
       "      <td>Post Graduate</td>\n",
       "      <td>Not Available</td>\n",
       "      <td>Rs 0\\n ~</td>\n",
       "    </tr>\n",
       "    <tr>\n",
       "      <th>freq</th>\n",
       "      <td>274</td>\n",
       "      <td>14</td>\n",
       "      <td>245</td>\n",
       "      <td>420</td>\n",
       "      <td>420</td>\n",
       "      <td>1760</td>\n",
       "      <td>1242</td>\n",
       "      <td>1392</td>\n",
       "      <td>502</td>\n",
       "      <td>22</td>\n",
       "      <td>634</td>\n",
       "    </tr>\n",
       "  </tbody>\n",
       "</table>\n",
       "</div>"
      ],
      "text/plain": [
       "                STATE CONSTITUENCY  NAME PARTY SYMBOL GENDER CRIMINAL\\nCASES  \\\n",
       "count            2263         2263  2263  2263   2018   2018            2018   \n",
       "unique             36          539  2014   133    126      2              29   \n",
       "top     Uttar Pradesh   AURANGABAD  NOTA   BJP  Lotus   MALE               0   \n",
       "freq              274           14   245   420    420   1760            1242   \n",
       "\n",
       "       CATEGORY      EDUCATION         ASSETS LIABILITIES  \n",
       "count      2018           2018           2018        2018  \n",
       "unique        3             13           1979        1226  \n",
       "top     GENERAL  Post Graduate  Not Available    Rs 0\\n ~  \n",
       "freq       1392            502             22         634  "
      ]
     },
     "execution_count": 7,
     "metadata": {},
     "output_type": "execute_result"
    }
   ],
   "source": [
    "data.describe(include='object')"
   ]
  },
  {
   "cell_type": "markdown",
   "id": "0e5b8254",
   "metadata": {},
   "source": [
    "# MILESTONE-2 [DATA PRE-PROCESSING]"
   ]
  },
  {
   "cell_type": "markdown",
   "id": "ea12fdfb",
   "metadata": {},
   "source": [
    "# 2.1 Handling missing values"
   ]
  },
  {
   "cell_type": "code",
   "execution_count": 8,
   "id": "8db488df",
   "metadata": {},
   "outputs": [
    {
     "data": {
      "text/plain": [
       "STATE                                          0\n",
       "CONSTITUENCY                                   0\n",
       "NAME                                           0\n",
       "WINNER                                         0\n",
       "PARTY                                          0\n",
       "SYMBOL                                       245\n",
       "GENDER                                       245\n",
       "CRIMINAL\\nCASES                              245\n",
       "AGE                                          245\n",
       "CATEGORY                                     245\n",
       "EDUCATION                                    245\n",
       "ASSETS                                       245\n",
       "LIABILITIES                                  245\n",
       "GENERAL\\nVOTES                                 0\n",
       "POSTAL\\nVOTES                                  0\n",
       "TOTAL\\nVOTES                                   0\n",
       "OVER TOTAL ELECTORS \\nIN CONSTITUENCY          0\n",
       "OVER TOTAL VOTES POLLED \\nIN CONSTITUENCY      0\n",
       "TOTAL ELECTORS                                 0\n",
       "dtype: int64"
      ]
     },
     "execution_count": 8,
     "metadata": {},
     "output_type": "execute_result"
    }
   ],
   "source": [
    "data.isna().sum()"
   ]
  },
  {
   "cell_type": "markdown",
   "id": "19e5599b",
   "metadata": {},
   "source": [
    "Since all the missing features are in the same observations, those rows are deleted."
   ]
  },
  {
   "cell_type": "code",
   "execution_count": 9,
   "id": "cc5e86e1",
   "metadata": {},
   "outputs": [],
   "source": [
    "data.dropna(inplace=True)"
   ]
  },
  {
   "cell_type": "code",
   "execution_count": 10,
   "id": "8eda1431",
   "metadata": {},
   "outputs": [
    {
     "data": {
      "text/plain": [
       "STATE                                        0\n",
       "CONSTITUENCY                                 0\n",
       "NAME                                         0\n",
       "WINNER                                       0\n",
       "PARTY                                        0\n",
       "SYMBOL                                       0\n",
       "GENDER                                       0\n",
       "CRIMINAL\\nCASES                              0\n",
       "AGE                                          0\n",
       "CATEGORY                                     0\n",
       "EDUCATION                                    0\n",
       "ASSETS                                       0\n",
       "LIABILITIES                                  0\n",
       "GENERAL\\nVOTES                               0\n",
       "POSTAL\\nVOTES                                0\n",
       "TOTAL\\nVOTES                                 0\n",
       "OVER TOTAL ELECTORS \\nIN CONSTITUENCY        0\n",
       "OVER TOTAL VOTES POLLED \\nIN CONSTITUENCY    0\n",
       "TOTAL ELECTORS                               0\n",
       "dtype: int64"
      ]
     },
     "execution_count": 10,
     "metadata": {},
     "output_type": "execute_result"
    }
   ],
   "source": [
    "data.isna().sum()"
   ]
  },
  {
   "cell_type": "code",
   "execution_count": 11,
   "id": "8b0c7795",
   "metadata": {},
   "outputs": [
    {
     "name": "stdout",
     "output_type": "stream",
     "text": [
      "<class 'pandas.core.frame.DataFrame'>\n",
      "Int64Index: 2018 entries, 0 to 2261\n",
      "Data columns (total 19 columns):\n",
      " #   Column                                    Non-Null Count  Dtype  \n",
      "---  ------                                    --------------  -----  \n",
      " 0   STATE                                     2018 non-null   object \n",
      " 1   CONSTITUENCY                              2018 non-null   object \n",
      " 2   NAME                                      2018 non-null   object \n",
      " 3   WINNER                                    2018 non-null   int64  \n",
      " 4   PARTY                                     2018 non-null   object \n",
      " 5   SYMBOL                                    2018 non-null   object \n",
      " 6   GENDER                                    2018 non-null   object \n",
      " 7   CRIMINAL\n",
      "CASES                            2018 non-null   object \n",
      " 8   AGE                                       2018 non-null   float64\n",
      " 9   CATEGORY                                  2018 non-null   object \n",
      " 10  EDUCATION                                 2018 non-null   object \n",
      " 11  ASSETS                                    2018 non-null   object \n",
      " 12  LIABILITIES                               2018 non-null   object \n",
      " 13  GENERAL\n",
      "VOTES                             2018 non-null   int64  \n",
      " 14  POSTAL\n",
      "VOTES                              2018 non-null   int64  \n",
      " 15  TOTAL\n",
      "VOTES                               2018 non-null   int64  \n",
      " 16  OVER TOTAL ELECTORS \n",
      "IN CONSTITUENCY      2018 non-null   float64\n",
      " 17  OVER TOTAL VOTES POLLED \n",
      "IN CONSTITUENCY  2018 non-null   float64\n",
      " 18  TOTAL ELECTORS                            2018 non-null   int64  \n",
      "dtypes: float64(3), int64(5), object(11)\n",
      "memory usage: 315.3+ KB\n"
     ]
    }
   ],
   "source": [
    "data.info()"
   ]
  },
  {
   "cell_type": "markdown",
   "id": "777e9c56",
   "metadata": {},
   "source": [
    "# 2.2 Handling outliers."
   ]
  },
  {
   "cell_type": "code",
   "execution_count": 12,
   "id": "39db2f20",
   "metadata": {},
   "outputs": [
    {
     "data": {
      "image/png": "[encoded data removed]",
      "text/plain": [
       "<Figure size 1152x720 with 7 Axes>"
      ]
     },
     "metadata": {
      "needs_background": "light"
     },
     "output_type": "display_data"
    }
   ],
   "source": [
    "plt.figure(figsize=(16,10))\n",
    "plt.subplot(2,4,1)\n",
    "plt.title('AGE')\n",
    "plt.boxplot(data['AGE'])\n",
    "plt.subplot(2,4,2)\n",
    "plt.title('GENERAL VOTES')\n",
    "plt.boxplot(data['GENERAL\\nVOTES'])\n",
    "plt.subplot(2,4,3)\n",
    "plt.title('POSTAL VOTES')\n",
    "plt.boxplot(data['POSTAL\\nVOTES'])\n",
    "plt.subplot(2,4,4)\n",
    "plt.title('TOTAL VOTES')\n",
    "plt.boxplot(data['TOTAL\\nVOTES'])\n",
    "plt.subplot(2,4,5)\n",
    "plt.title('OVER TOTAL ELECTORS\\nIN CONSTITUENCY')\n",
    "plt.boxplot(data['OVER TOTAL ELECTORS \\nIN CONSTITUENCY'])\n",
    "plt.subplot(2,4,6)\n",
    "plt.title('OVER TOTAL VOTES POLLED\\n IN CONSTITUENCY')\n",
    "plt.boxplot(data['OVER TOTAL VOTES POLLED \\nIN CONSTITUENCY'])\n",
    "plt.subplot(2,4,7)\n",
    "plt.title('TOTAL ELECTORS')\n",
    "plt.boxplot(data['TOTAL ELECTORS'])\n",
    "plt.show()"
   ]
  },
  {
   "cell_type": "markdown",
   "id": "f06d899c",
   "metadata": {},
   "source": [
    "There are outliers in 'POSTAL VOTES' and 'TOTAL ELECTORS'."
   ]
  },
  {
   "cell_type": "markdown",
   "id": "e82fc1e1",
   "metadata": {},
   "source": [
    "# 2.2.1 Handling outliers in 'POSTAL VOTES'"
   ]
  },
  {
   "cell_type": "code",
   "execution_count": 13,
   "id": "39fea07c",
   "metadata": {},
   "outputs": [
    {
     "name": "stdout",
     "output_type": "stream",
     "text": [
      "Q1 =  97.0 \n",
      "Q2 =  463.0 \n",
      "Q3 =  1545.0\n",
      "IQR =  1448.0\n",
      "Upper limit =  3717.0 \n",
      "Lower limit =  -2075.0\n",
      "List of outliers:  [7699, 3822, 4024, 3985, 4410, 14196, 9621, 3955, 4307, 5502, 4370, 6374, 4629, 5316, 9302, 6158, 5075, 6007, 4789, 4171, 4616, 5005, 4091, 4564, 6699, 6001, 4704, 10974, 4125, 4363, 3785, 5467, 4147, 6426, 5410, 6678, 3975, 4662, 4353, 4699, 4433, 19367, 5726, 7542, 4305, 13880, 4624, 4500, 6863, 4252, 4609, 5593, 8506, 4738, 4156, 4364, 17852, 4004, 4087, 15169, 7722, 4315, 5281, 5532, 4752, 3917, 13085, 4179, 3980, 3905, 5145, 5258, 8748, 3951, 3833, 4245, 3869, 4555, 7022, 4658, 4520, 5864, 3900, 5048, 4858, 3728, 6816, 5688, 9858, 8064, 5035, 4327, 9332, 5113, 4835, 6692, 3870, 6934, 4217, 4349, 7603, 5486, 4161, 3849, 5380, 4877, 10772, 4275, 5779, 5331, 5331, 6960, 4887, 9213, 5810, 5357, 5618, 5404, 4953, 3896, 4553, 3854, 8905, 6216, 4952]\n"
     ]
    }
   ],
   "source": [
    "#calculating percentiles\n",
    "Q1=np.percentile(data['POSTAL\\nVOTES'],25,interpolation='midpoint')\n",
    "Q2=np.percentile(data['POSTAL\\nVOTES'],50,interpolation='midpoint')\n",
    "Q3=np.percentile(data['POSTAL\\nVOTES'],75,interpolation='midpoint')\n",
    "print('Q1 = ',Q1,'\\nQ2 = ',round(Q2,2),'\\nQ3 = ',Q3)\n",
    "\n",
    "#calculating inter quartile range\n",
    "IQR=Q3-Q1\n",
    "print('IQR = ',round(IQR,2))\n",
    "\n",
    "#calculating the upper and lower limit of outliers\n",
    "low_lim=Q1-(1.5*IQR)\n",
    "up_lim=Q3+(1.5*IQR)\n",
    "print('Upper limit = ',round(up_lim,2),'\\nLower limit = ',low_lim)\n",
    "\n",
    "#creating a list of outliers\n",
    "outlier=[]\n",
    "for x in data['POSTAL\\nVOTES']:\n",
    "    if (x>up_lim or x<low_lim):\n",
    "        outlier.append(x)\n",
    "print('List of outliers: ',outlier)"
   ]
  },
  {
   "cell_type": "code",
   "execution_count": 14,
   "id": "4d0a7930",
   "metadata": {},
   "outputs": [
    {
     "data": {
      "text/plain": [
       "Int64Index([   7,    8,   10,   16,   32,   44,   48,   51,   94,  113,\n",
       "            ...\n",
       "            2060, 2093, 2099, 2105, 2106, 2117, 2143, 2149, 2220, 2232],\n",
       "           dtype='int64', length=125)"
      ]
     },
     "execution_count": 14,
     "metadata": {},
     "output_type": "execute_result"
    }
   ],
   "source": [
    "#finding index values of outliers\n",
    "data.loc[(data['POSTAL\\nVOTES']>up_lim ) | (data['POSTAL\\nVOTES']<low_lim)].index"
   ]
  },
  {
   "cell_type": "code",
   "execution_count": 15,
   "id": "7e9e5be8",
   "metadata": {},
   "outputs": [],
   "source": [
    "#removing the outliers\n",
    "data.drop([7, 8, 10, 16, 32, 44, 48, 51, 94, 113, 124, 133, 138, 146, 152, 197, 216, 270, 271, 309, 351, 356, 377, 378, 382, 389, 397, 405, 457, 463, 539, 544, 545, 552, 601, 624, 686, 694, 728, 746, 749, 753, 802, 822, 826, 839, 850, 856, 869, 870, 890, 931, 933, 934, 936, 948, 963, 964, 965, 1010, 1012, 1018, 1022, 1025, 1049, 1059, 1068, 1112, 1228, 1273, 1283, 1295, 1366, 1384, 1442, 1482, 1488, 1510, 1521, 1540, 1541, 1548, 1549, 1552, 1556, 1568, 1573, 1574, 1601, 1602, 1605, 1606, 1629, 1630, 1632, 1664, 1685, 1750, 1751, 1771, 1820, 1824, 1825, 1833, 1858, 1915, 1939, 1940, 1942, 1943, 2001, 2002, 2035, 2043, 2046, 2060, 2093, 2099, 2105, 2106, 2117, 2143, 2149, 2220, 2232],inplace=True)"
   ]
  },
  {
   "cell_type": "markdown",
   "id": "673d27ae",
   "metadata": {},
   "source": [
    "# 2.2.2 Handling outliers in 'TOTAL ELECTORS'"
   ]
  },
  {
   "cell_type": "code",
   "execution_count": 16,
   "id": "0f487604",
   "metadata": {},
   "outputs": [
    {
     "name": "stdout",
     "output_type": "stream",
     "text": [
      "Q1 =  1530404.0 \n",
      "Q2 =  1683325.0 \n",
      "Q3 =  1816857.0\n",
      "IQR =  286453.0\n",
      "Upper limit =  2246536.5 \n",
      "Lower limit =  1100724.5\n",
      "List of outliers:  [318471, 318471, 318471, 318471, 318471, 339788, 339788, 339788, 339788, 463775, 463775, 463775, 463775, 795945, 795945, 795945, 795945, 795945, 2849250, 2849250, 2497458, 2497458, 2497458, 646729, 646729, 646729, 646729, 2443112, 2443112, 2443112, 250029, 250029, 250029, 250029, 250029, 250029, 121740, 121740, 121740, 2302960, 2302960, 2302960, 2728978, 2728978, 2728978, 2350580, 2350580, 937464, 937464, 937464, 937464, 937464, 179232, 179232, 179232, 179232, 55189, 55189, 55189, 3150313, 3150313, 3150313, 3150313, 2298080, 2298080, 2298080, 792464, 792464, 792464, 792464, 792464, 2290492, 2290492, 2290492, 2290492, 556761, 556761, 556761, 2378995, 2378995, 2378995, 1022099, 1022099, 1022099, 1022099, 1022099, 973410, 973410, 973410, 973410, 434128, 434128, 579352, 579352, 579352, 2253448, 2253448, 2253448, 2253448, 2253448, 2370903, 2370903, 2370903, 716990, 716990, 716990, 2371644, 2371644, 2371644]\n"
     ]
    }
   ],
   "source": [
    "#calculating percentiles\n",
    "Q1=np.percentile(data['TOTAL ELECTORS'],25,interpolation='midpoint')\n",
    "Q2=np.percentile(data['TOTAL ELECTORS'],50,interpolation='midpoint')\n",
    "Q3=np.percentile(data['TOTAL ELECTORS'],75,interpolation='midpoint')\n",
    "print('Q1 = ',Q1,'\\nQ2 = ',round(Q2,2),'\\nQ3 = ',Q3)\n",
    "\n",
    "#calculating inter quartile range\n",
    "IQR=Q3-Q1\n",
    "print('IQR = ',round(IQR,2))\n",
    "\n",
    "#calculating the upper and lower limit of outliers\n",
    "low_lim=Q1-(1.5*IQR)\n",
    "up_lim=Q3+(1.5*IQR)\n",
    "print('Upper limit = ',round(up_lim,2),'\\nLower limit = ',low_lim)\n",
    "\n",
    "#creating a list of outliers\n",
    "outlier=[]\n",
    "for x in data['TOTAL ELECTORS']:\n",
    "    if (x>up_lim or x<low_lim):\n",
    "        outlier.append(x)\n",
    "print('List of outliers: ',outlier)"
   ]
  },
  {
   "cell_type": "code",
   "execution_count": 17,
   "id": "0829f789",
   "metadata": {},
   "outputs": [
    {
     "data": {
      "text/plain": [
       "Int64Index([ 105,  106,  107,  108,  109,  147,  148,  149,  150,  153,\n",
       "            ...\n",
       "            2014, 2056, 2057, 2058, 2139, 2140, 2141, 2250, 2251, 2252],\n",
       "           dtype='int64', length=109)"
      ]
     },
     "execution_count": 17,
     "metadata": {},
     "output_type": "execute_result"
    }
   ],
   "source": [
    "#finding index values of outliers\n",
    "data.loc[(data['TOTAL ELECTORS']>up_lim ) | (data['TOTAL ELECTORS']<low_lim)].index"
   ]
  },
  {
   "cell_type": "code",
   "execution_count": 18,
   "id": "dad0c64a",
   "metadata": {},
   "outputs": [],
   "source": [
    "#removing the outliers\n",
    "data.drop([105, 106, 107, 108, 109, 147, 148, 149, 150, 153, 154, 155, 156, 184, 185, 186, 187, 188, 238, 239, 240, 241, 242, 481, 482, 483, 484, 517, 518, 519, 574, 575, 576, 577, 578, 580, 589, 590, 591, 759, 760, 761, 778, 779, 780, 906, 907, 908, 909, 910, 911, 912, 1258, 1259, 1260, 1261, 1266, 1267, 1268, 1361, 1362, 1363, 1364, 1391, 1392, 1393, 1431, 1432, 1433, 1434, 1435, 1588, 1589, 1590, 1591, 1592, 1593, 1595, 1596, 1597, 1598, 1608, 1609, 1610, 1611, 1612, 1693, 1694, 1695, 1696, 1944, 1945, 1992, 1993, 1994, 2010, 2011, 2012, 2013, 2014, 2056, 2057, 2058, 2139, 2140, 2141, 2250, 2251, 2252],inplace=True)"
   ]
  },
  {
   "cell_type": "code",
   "execution_count": 19,
   "id": "7375e032",
   "metadata": {},
   "outputs": [
    {
     "data": {
      "image/png": "[encoded data removed]",
      "text/plain": [
       "<Figure size 1152x720 with 7 Axes>"
      ]
     },
     "metadata": {
      "needs_background": "light"
     },
     "output_type": "display_data"
    }
   ],
   "source": [
    "plt.figure(figsize=(16,10))\n",
    "plt.subplot(2,4,1)\n",
    "plt.title('AGE')\n",
    "plt.boxplot(data['AGE'])\n",
    "plt.subplot(2,4,2)\n",
    "plt.title('GENERAL VOTES')\n",
    "plt.boxplot(data['GENERAL\\nVOTES'])\n",
    "plt.subplot(2,4,3)\n",
    "plt.title('POSTAL VOTES')\n",
    "plt.boxplot(data['POSTAL\\nVOTES'])\n",
    "plt.subplot(2,4,4)\n",
    "plt.title('TOTAL VOTES')\n",
    "plt.boxplot(data['TOTAL\\nVOTES'])\n",
    "plt.subplot(2,4,5)\n",
    "plt.title('OVER TOTAL ELECTORS\\nIN CONSTITUENCY')\n",
    "plt.boxplot(data['OVER TOTAL ELECTORS \\nIN CONSTITUENCY'])\n",
    "plt.subplot(2,4,6)\n",
    "plt.title('OVER TOTAL VOTES POLLED\\n IN CONSTITUENCY')\n",
    "plt.boxplot(data['OVER TOTAL VOTES POLLED \\nIN CONSTITUENCY'])\n",
    "plt.subplot(2,4,7)\n",
    "plt.title('TOTAL ELECTORS')\n",
    "plt.boxplot(data['TOTAL ELECTORS'])\n",
    "plt.show()"
   ]
  },
  {
   "cell_type": "markdown",
   "id": "f191ea54",
   "metadata": {},
   "source": [
    "# 2.3 Encoding"
   ]
  },
  {
   "cell_type": "code",
   "execution_count": 20,
   "id": "38cef393",
   "metadata": {},
   "outputs": [
    {
     "data": {
      "text/html": [
       "<div>\n",
       "<style scoped>\n",
       "    .dataframe tbody tr th:only-of-type {\n",
       "        vertical-align: middle;\n",
       "    }\n",
       "\n",
       "    .dataframe tbody tr th {\n",
       "        vertical-align: top;\n",
       "    }\n",
       "\n",
       "    .dataframe thead th {\n",
       "        text-align: right;\n",
       "    }\n",
       "</style>\n",
       "<table border=\"1\" class=\"dataframe\">\n",
       "  <thead>\n",
       "    <tr style=\"text-align: right;\">\n",
       "      <th></th>\n",
       "      <th>STATE</th>\n",
       "      <th>CONSTITUENCY</th>\n",
       "      <th>NAME</th>\n",
       "      <th>PARTY</th>\n",
       "      <th>SYMBOL</th>\n",
       "      <th>GENDER</th>\n",
       "      <th>CRIMINAL\\nCASES</th>\n",
       "      <th>CATEGORY</th>\n",
       "      <th>EDUCATION</th>\n",
       "      <th>ASSETS</th>\n",
       "      <th>LIABILITIES</th>\n",
       "    </tr>\n",
       "  </thead>\n",
       "  <tbody>\n",
       "    <tr>\n",
       "      <th>count</th>\n",
       "      <td>1784</td>\n",
       "      <td>1784</td>\n",
       "      <td>1784</td>\n",
       "      <td>1784</td>\n",
       "      <td>1784</td>\n",
       "      <td>1784</td>\n",
       "      <td>1784</td>\n",
       "      <td>1784</td>\n",
       "      <td>1784</td>\n",
       "      <td>1784</td>\n",
       "      <td>1784</td>\n",
       "    </tr>\n",
       "    <tr>\n",
       "      <th>unique</th>\n",
       "      <td>25</td>\n",
       "      <td>506</td>\n",
       "      <td>1779</td>\n",
       "      <td>122</td>\n",
       "      <td>117</td>\n",
       "      <td>2</td>\n",
       "      <td>28</td>\n",
       "      <td>3</td>\n",
       "      <td>13</td>\n",
       "      <td>1748</td>\n",
       "      <td>1066</td>\n",
       "    </tr>\n",
       "    <tr>\n",
       "      <th>top</th>\n",
       "      <td>Uttar Pradesh</td>\n",
       "      <td>AURANGABAD</td>\n",
       "      <td>SURENDRA RAM</td>\n",
       "      <td>INC</td>\n",
       "      <td>Hand</td>\n",
       "      <td>MALE</td>\n",
       "      <td>0</td>\n",
       "      <td>GENERAL</td>\n",
       "      <td>Post Graduate</td>\n",
       "      <td>Not Available</td>\n",
       "      <td>Rs 0\\n ~</td>\n",
       "    </tr>\n",
       "    <tr>\n",
       "      <th>freq</th>\n",
       "      <td>236</td>\n",
       "      <td>13</td>\n",
       "      <td>2</td>\n",
       "      <td>377</td>\n",
       "      <td>377</td>\n",
       "      <td>1546</td>\n",
       "      <td>1085</td>\n",
       "      <td>1230</td>\n",
       "      <td>437</td>\n",
       "      <td>21</td>\n",
       "      <td>572</td>\n",
       "    </tr>\n",
       "  </tbody>\n",
       "</table>\n",
       "</div>"
      ],
      "text/plain": [
       "                STATE CONSTITUENCY          NAME PARTY SYMBOL GENDER  \\\n",
       "count            1784         1784          1784  1784   1784   1784   \n",
       "unique             25          506          1779   122    117      2   \n",
       "top     Uttar Pradesh   AURANGABAD  SURENDRA RAM   INC   Hand   MALE   \n",
       "freq              236           13             2   377    377   1546   \n",
       "\n",
       "       CRIMINAL\\nCASES CATEGORY      EDUCATION         ASSETS LIABILITIES  \n",
       "count             1784     1784           1784           1784        1784  \n",
       "unique              28        3             13           1748        1066  \n",
       "top                  0  GENERAL  Post Graduate  Not Available    Rs 0\\n ~  \n",
       "freq              1085     1230            437             21         572  "
      ]
     },
     "execution_count": 20,
     "metadata": {},
     "output_type": "execute_result"
    }
   ],
   "source": [
    "data.describe(include='object')"
   ]
  },
  {
   "cell_type": "code",
   "execution_count": 21,
   "id": "07bd11e2",
   "metadata": {},
   "outputs": [],
   "source": [
    "# replacing Not Available values with 0\n",
    "data['CRIMINAL\\nCASES'] = data['CRIMINAL\\nCASES'].replace(['Not Available'], '0')\n",
    "data['ASSETS'] = data['ASSETS'].replace(['Nil', '`', 'Not Available'], '0')\n",
    "data['LIABILITIES'] = data['LIABILITIES'].replace(['NIL', '`', 'Not Available'], '0')\n",
    "\n",
    "# cleaning ASSETS and LIABILITIES features\n",
    "data['ASSETS'] = data['ASSETS'].map(lambda x: x.lstrip('Rs ').split('\\n')[0].replace(',', ''))\n",
    "data['LIABILITIES'] = data['LIABILITIES'].map(lambda x: x.lstrip('Rs ').split('\\n')[0].replace(',', ''))\n",
    "\n",
    "# converting ASSETS, LIABILITIES and CRIMINAL CASES column values into numeric\n",
    "data['ASSETS'] = data['ASSETS'].astype(float)\n",
    "data['LIABILITIES'] = data['LIABILITIES'].astype(float)\n",
    "data['CRIMINAL\\nCASES'] = data['CRIMINAL\\nCASES'].astype(int)\n"
   ]
  },
  {
   "cell_type": "code",
   "execution_count": 22,
   "id": "8716ea76",
   "metadata": {},
   "outputs": [],
   "source": [
    "y=data['WINNER']\n",
    "x=data.drop(['WINNER','STATE','CONSTITUENCY','NAME','SYMBOL'],axis=1)"
   ]
  },
  {
   "cell_type": "code",
   "execution_count": 23,
   "id": "5f014ffd",
   "metadata": {},
   "outputs": [
    {
     "data": {
      "text/plain": [
       "array(['12th Pass', 'Post Graduate', 'Doctorate', 'Graduate', '10th Pass',\n",
       "       '8th Pass', 'Graduate Professional', 'Others', 'Literate',\n",
       "       'Illiterate', '5th Pass', 'Not Available', 'Post Graduate\\n'],\n",
       "      dtype=object)"
      ]
     },
     "execution_count": 23,
     "metadata": {},
     "output_type": "execute_result"
    }
   ],
   "source": [
    "x['EDUCATION'].unique()"
   ]
  },
  {
   "cell_type": "code",
   "execution_count": 24,
   "id": "dea0572b",
   "metadata": {},
   "outputs": [
    {
     "data": {
      "text/plain": [
       "array(['ST', 'SC', 'GENERAL'], dtype=object)"
      ]
     },
     "execution_count": 24,
     "metadata": {},
     "output_type": "execute_result"
    }
   ],
   "source": [
    "x['CATEGORY'].unique()"
   ]
  },
  {
   "cell_type": "code",
   "execution_count": 25,
   "id": "b94ef8eb",
   "metadata": {},
   "outputs": [
    {
     "data": {
      "text/plain": [
       "array(['MALE', 'FEMALE'], dtype=object)"
      ]
     },
     "execution_count": 25,
     "metadata": {},
     "output_type": "execute_result"
    }
   ],
   "source": [
    "x['GENDER'].unique()"
   ]
  },
  {
   "cell_type": "code",
   "execution_count": 26,
   "id": "2f495506",
   "metadata": {},
   "outputs": [],
   "source": [
    "# encoding 'EDUCATION' feature\n",
    "education = []\n",
    "\n",
    "for a in data.itertuples():\n",
    "    edu=a.EDUCATION\n",
    "\n",
    "    if edu == \"Illiterate\":\n",
    "        education.append(0)\n",
    "    elif edu == \"Literate\":\n",
    "        education.append(1)\n",
    "    elif edu == \"5th Pass\":\n",
    "        education.append(2)\n",
    "    elif edu == \"8th Pass\":\n",
    "        education.append(3)\n",
    "    elif edu == \"10th Pass\":\n",
    "        education.append(4)\n",
    "    elif edu == \"12th Pass\":\n",
    "        education.append(6)\n",
    "    elif edu == \"Graduate\":\n",
    "        education.append(7)\n",
    "    elif edu == \"Post Graduate\":\n",
    "        education.append(8)\n",
    "    elif edu == \"Graduate Professional\":\n",
    "        education.append(9)\n",
    "    elif edu == \"Doctorate\":\n",
    "        education.append(10)\n",
    "    else:\n",
    "        education.append(5)\n",
    "\n",
    "x['EDUCATION'] = education"
   ]
  },
  {
   "cell_type": "code",
   "execution_count": 27,
   "id": "bac2f554",
   "metadata": {},
   "outputs": [],
   "source": [
    "# encoding 'CATEGORY' feature\n",
    "category = []\n",
    "\n",
    "for a in data.itertuples():\n",
    "    cat= a.CATEGORY\n",
    "\n",
    "    if cat == \"ST\":\n",
    "        category.append(0)\n",
    "    elif cat == \"SC\":\n",
    "        category.append(1)\n",
    "    else:\n",
    "        category.append(2)\n",
    "\n",
    "x['CATEGORY'] = category"
   ]
  },
  {
   "cell_type": "code",
   "execution_count": 28,
   "id": "bd997391",
   "metadata": {},
   "outputs": [],
   "source": [
    "#label encoding\n",
    "from sklearn.preprocessing import LabelEncoder\n",
    "lab_enc_state=LabelEncoder()\n",
    "lab_enc_state.fit(x['GENDER'])\n",
    "x['GENDER']=lab_enc_state.transform(x['GENDER'])"
   ]
  },
  {
   "cell_type": "markdown",
   "id": "334425ae",
   "metadata": {},
   "source": [
    "# 2.4 Feature Engineering"
   ]
  },
  {
   "cell_type": "code",
   "execution_count": 29,
   "id": "d4670c20",
   "metadata": {},
   "outputs": [
    {
     "data": {
      "text/plain": [
       "INC           377\n",
       "BJP           329\n",
       "IND           188\n",
       "BSP           158\n",
       "CPI(M)         99\n",
       "AITC           47\n",
       "VBA            45\n",
       "SP             38\n",
       "NTK            36\n",
       "MNM            34\n",
       "SHS            22\n",
       "RJD            21\n",
       "BJD            21\n",
       "AIADMK         21\n",
       "JnP            19\n",
       "AAP            18\n",
       "JD(U)          16\n",
       "TDP            16\n",
       "TRS            15\n",
       "NCP            15\n",
       "DMK            11\n",
       "SBSP           10\n",
       "SAD            10\n",
       "APoI            9\n",
       "YSRCP           7\n",
       "JD(S)           7\n",
       "JNJP            6\n",
       "CPI(ML)(L)      6\n",
       "PMK             6\n",
       "BLSP            5\n",
       "BMUP            5\n",
       "JMM             5\n",
       "LJP             5\n",
       "RSP             5\n",
       "GGP             5\n",
       "SDPI            4\n",
       "BTP             4\n",
       "DMDK            4\n",
       "BDJS            4\n",
       "INLD            4\n",
       "IUML            3\n",
       "AGP             3\n",
       "RSPSR           3\n",
       "VSIP            3\n",
       "PSPL            3\n",
       "SSD             3\n",
       "PUNEKP          3\n",
       "RLD             3\n",
       "PPID            3\n",
       "RAHIS           3\n",
       "AIMIM           3\n",
       "AIFB            3\n",
       "HAMS            3\n",
       "JPC             3\n",
       "LIP             3\n",
       "JKN             3\n",
       "AIUDF           3\n",
       "SWP             2\n",
       "JDL             2\n",
       "JKP             2\n",
       "LTSP            2\n",
       "ADAL            2\n",
       "RVNP            2\n",
       "IPFT            2\n",
       "AAM             2\n",
       "UPPL            2\n",
       "JVM             2\n",
       "JKPDP           2\n",
       "JHP             1\n",
       "WAP             1\n",
       "NDPP            1\n",
       "PDP             1\n",
       "VCK             1\n",
       "BJKVP           1\n",
       "BVA             1\n",
       "ABSKP           1\n",
       "KEC(M)          1\n",
       "PMP             1\n",
       "AJSUP           1\n",
       "TJS             1\n",
       "ravp            1\n",
       "BOPF            1\n",
       "AIPF            1\n",
       "AHFBK           1\n",
       "SJDD            1\n",
       "NPEP            1\n",
       "JAPL            1\n",
       "SPL             1\n",
       "MOSP            1\n",
       "AHNP            1\n",
       "PHJSP           1\n",
       "JDR             1\n",
       "BRPI            1\n",
       "BSCP            1\n",
       "VPI             1\n",
       "RSOSP           1\n",
       "RTORP           1\n",
       "BLSD            1\n",
       "SUCI(C)         1\n",
       "TMC(M)          1\n",
       "RMPOI           1\n",
       "AJPR            1\n",
       "NAWPP           1\n",
       "DSSP            1\n",
       "UDP             1\n",
       "BBMP            1\n",
       "WPOI            1\n",
       "ABGP            1\n",
       "SAD(M)          1\n",
       "BARESP          1\n",
       "YKP             1\n",
       "MSHP            1\n",
       "KEC             1\n",
       "VCSMP           1\n",
       "CPIM            1\n",
       "BLRP            1\n",
       "BNDl            1\n",
       "MADP            1\n",
       "ANC             1\n",
       "JKNPP           1\n",
       "AKBMP           1\n",
       "JANADIP         1\n",
       "Name: PARTY, dtype: int64"
      ]
     },
     "execution_count": 29,
     "metadata": {},
     "output_type": "execute_result"
    }
   ],
   "source": [
    "# change feature of the less frequent parties as Other\n",
    "pd.set_option('display.max_rows', 122)\n",
    "x['PARTY'].value_counts()"
   ]
  },
  {
   "cell_type": "code",
   "execution_count": 30,
   "id": "162b5f1f",
   "metadata": {},
   "outputs": [
    {
     "data": {
      "text/plain": [
       "INC       377\n",
       "Other     348\n",
       "BJP       329\n",
       "IND       188\n",
       "BSP       158\n",
       "CPI(M)     99\n",
       "AITC       47\n",
       "VBA        45\n",
       "SP         38\n",
       "NTK        36\n",
       "MNM        34\n",
       "SHS        22\n",
       "BJD        21\n",
       "RJD        21\n",
       "AIADMK     21\n",
       "Name: PARTY, dtype: int64"
      ]
     },
     "execution_count": 30,
     "metadata": {},
     "output_type": "execute_result"
    }
   ],
   "source": [
    "x.loc[~x[\"PARTY\"].isin(['INC','BJP','IND','BSP', 'CPI(M)', 'AITC','VBA','SP','NTK','MNM', 'SHS', 'RJD', 'BJD','AIADMK']), \"PARTY\"] = \"Other\"\n",
    "x['PARTY'].value_counts()"
   ]
  },
  {
   "cell_type": "code",
   "execution_count": 31,
   "id": "84f3d7af",
   "metadata": {},
   "outputs": [],
   "source": [
    "#label encoding\n",
    "from sklearn.preprocessing import LabelEncoder\n",
    "lab_enc_state=LabelEncoder()\n",
    "lab_enc_state.fit(x['PARTY'])\n",
    "x['PARTY']=lab_enc_state.transform(x['PARTY'])"
   ]
  },
  {
   "cell_type": "markdown",
   "id": "ae74e1b1",
   "metadata": {},
   "source": [
    "# 2.5 Feature Reduction"
   ]
  },
  {
   "cell_type": "code",
   "execution_count": 32,
   "id": "e3546545",
   "metadata": {},
   "outputs": [
    {
     "data": {
      "image/png": "[encoded data removed]",
      "text/plain": [
       "<Figure size 1440x720 with 2 Axes>"
      ]
     },
     "metadata": {
      "needs_background": "light"
     },
     "output_type": "display_data"
    }
   ],
   "source": [
    "plt.figure(figsize=(20,10))\n",
    "sns.heatmap(data.corr(),annot=True,vmin=-1,vmax=1)\n",
    "plt.show()"
   ]
  },
  {
   "cell_type": "markdown",
   "id": "7eca1524",
   "metadata": {},
   "source": [
    "There is high correlation between features 'GENERAL VOTES','OVER TOTAL ELECTORS IN CONSTITUENCY' and 'OVER TOTAL VOTES POLLED IN CONSTITUENCY'.\n",
    "Hence, two of these can be deleted."
   ]
  },
  {
   "cell_type": "code",
   "execution_count": 33,
   "id": "c0e9b48d",
   "metadata": {},
   "outputs": [],
   "source": [
    "x.drop(['OVER TOTAL ELECTORS \\nIN CONSTITUENCY','OVER TOTAL VOTES POLLED \\nIN CONSTITUENCY'],axis=1,inplace=True)"
   ]
  },
  {
   "cell_type": "markdown",
   "id": "6f0afe2f",
   "metadata": {},
   "source": [
    "# 2.6 Normalisation"
   ]
  },
  {
   "cell_type": "code",
   "execution_count": 34,
   "id": "18bb8916",
   "metadata": {},
   "outputs": [
    {
     "data": {
      "text/html": [
       "<div>\n",
       "<style scoped>\n",
       "    .dataframe tbody tr th:only-of-type {\n",
       "        vertical-align: middle;\n",
       "    }\n",
       "\n",
       "    .dataframe tbody tr th {\n",
       "        vertical-align: top;\n",
       "    }\n",
       "\n",
       "    .dataframe thead th {\n",
       "        text-align: right;\n",
       "    }\n",
       "</style>\n",
       "<table border=\"1\" class=\"dataframe\">\n",
       "  <thead>\n",
       "    <tr style=\"text-align: right;\">\n",
       "      <th></th>\n",
       "      <th>PARTY</th>\n",
       "      <th>GENDER</th>\n",
       "      <th>CRIMINAL\\nCASES</th>\n",
       "      <th>AGE</th>\n",
       "      <th>CATEGORY</th>\n",
       "      <th>EDUCATION</th>\n",
       "      <th>ASSETS</th>\n",
       "      <th>LIABILITIES</th>\n",
       "      <th>GENERAL\\nVOTES</th>\n",
       "      <th>POSTAL\\nVOTES</th>\n",
       "      <th>TOTAL\\nVOTES</th>\n",
       "      <th>TOTAL ELECTORS</th>\n",
       "    </tr>\n",
       "  </thead>\n",
       "  <tbody>\n",
       "    <tr>\n",
       "      <th>count</th>\n",
       "      <td>1784.000000</td>\n",
       "      <td>1784.000000</td>\n",
       "      <td>1784.000000</td>\n",
       "      <td>1784.000000</td>\n",
       "      <td>1784.000000</td>\n",
       "      <td>1784.000000</td>\n",
       "      <td>1.784000e+03</td>\n",
       "      <td>1.784000e+03</td>\n",
       "      <td>1.784000e+03</td>\n",
       "      <td>1784.000000</td>\n",
       "      <td>1.784000e+03</td>\n",
       "      <td>1.784000e+03</td>\n",
       "    </tr>\n",
       "    <tr>\n",
       "      <th>mean</th>\n",
       "      <td>6.432735</td>\n",
       "      <td>0.866592</td>\n",
       "      <td>1.513453</td>\n",
       "      <td>52.182735</td>\n",
       "      <td>1.578475</td>\n",
       "      <td>6.837444</td>\n",
       "      <td>1.154792e+08</td>\n",
       "      <td>1.611685e+07</td>\n",
       "      <td>2.728724e+05</td>\n",
       "      <td>799.950673</td>\n",
       "      <td>2.736723e+05</td>\n",
       "      <td>1.682539e+06</td>\n",
       "    </tr>\n",
       "    <tr>\n",
       "      <th>std</th>\n",
       "      <td>3.168473</td>\n",
       "      <td>0.340111</td>\n",
       "      <td>8.036990</td>\n",
       "      <td>11.889999</td>\n",
       "      <td>0.682698</td>\n",
       "      <td>2.015206</td>\n",
       "      <td>3.442890e+08</td>\n",
       "      <td>7.809065e+07</td>\n",
       "      <td>2.442833e+05</td>\n",
       "      <td>922.530129</td>\n",
       "      <td>2.449340e+05</td>\n",
       "      <td>1.988813e+05</td>\n",
       "    </tr>\n",
       "    <tr>\n",
       "      <th>min</th>\n",
       "      <td>0.000000</td>\n",
       "      <td>0.000000</td>\n",
       "      <td>0.000000</td>\n",
       "      <td>25.000000</td>\n",
       "      <td>0.000000</td>\n",
       "      <td>0.000000</td>\n",
       "      <td>0.000000e+00</td>\n",
       "      <td>0.000000e+00</td>\n",
       "      <td>1.365000e+03</td>\n",
       "      <td>0.000000</td>\n",
       "      <td>1.369000e+03</td>\n",
       "      <td>1.195720e+06</td>\n",
       "    </tr>\n",
       "    <tr>\n",
       "      <th>25%</th>\n",
       "      <td>4.000000</td>\n",
       "      <td>1.000000</td>\n",
       "      <td>0.000000</td>\n",
       "      <td>43.000000</td>\n",
       "      <td>1.000000</td>\n",
       "      <td>6.000000</td>\n",
       "      <td>5.398870e+06</td>\n",
       "      <td>0.000000e+00</td>\n",
       "      <td>2.799775e+04</td>\n",
       "      <td>87.000000</td>\n",
       "      <td>2.812200e+04</td>\n",
       "      <td>1.552019e+06</td>\n",
       "    </tr>\n",
       "    <tr>\n",
       "      <th>50%</th>\n",
       "      <td>6.000000</td>\n",
       "      <td>1.000000</td>\n",
       "      <td>0.000000</td>\n",
       "      <td>52.000000</td>\n",
       "      <td>2.000000</td>\n",
       "      <td>7.000000</td>\n",
       "      <td>2.159275e+07</td>\n",
       "      <td>8.000000e+05</td>\n",
       "      <td>2.561535e+05</td>\n",
       "      <td>385.000000</td>\n",
       "      <td>2.577230e+05</td>\n",
       "      <td>1.685955e+06</td>\n",
       "    </tr>\n",
       "    <tr>\n",
       "      <th>75%</th>\n",
       "      <td>10.000000</td>\n",
       "      <td>1.000000</td>\n",
       "      <td>1.000000</td>\n",
       "      <td>61.000000</td>\n",
       "      <td>2.000000</td>\n",
       "      <td>8.000000</td>\n",
       "      <td>8.287406e+07</td>\n",
       "      <td>5.261175e+06</td>\n",
       "      <td>4.848705e+05</td>\n",
       "      <td>1302.500000</td>\n",
       "      <td>4.869738e+05</td>\n",
       "      <td>1.811630e+06</td>\n",
       "    </tr>\n",
       "    <tr>\n",
       "      <th>max</th>\n",
       "      <td>14.000000</td>\n",
       "      <td>1.000000</td>\n",
       "      <td>240.000000</td>\n",
       "      <td>86.000000</td>\n",
       "      <td>2.000000</td>\n",
       "      <td>10.000000</td>\n",
       "      <td>6.601947e+09</td>\n",
       "      <td>1.547511e+09</td>\n",
       "      <td>1.007156e+06</td>\n",
       "      <td>3706.000000</td>\n",
       "      <td>1.008936e+06</td>\n",
       "      <td>2.215489e+06</td>\n",
       "    </tr>\n",
       "  </tbody>\n",
       "</table>\n",
       "</div>"
      ],
      "text/plain": [
       "             PARTY       GENDER  CRIMINAL\\nCASES          AGE     CATEGORY  \\\n",
       "count  1784.000000  1784.000000      1784.000000  1784.000000  1784.000000   \n",
       "mean      6.432735     0.866592         1.513453    52.182735     1.578475   \n",
       "std       3.168473     0.340111         8.036990    11.889999     0.682698   \n",
       "min       0.000000     0.000000         0.000000    25.000000     0.000000   \n",
       "25%       4.000000     1.000000         0.000000    43.000000     1.000000   \n",
       "50%       6.000000     1.000000         0.000000    52.000000     2.000000   \n",
       "75%      10.000000     1.000000         1.000000    61.000000     2.000000   \n",
       "max      14.000000     1.000000       240.000000    86.000000     2.000000   \n",
       "\n",
       "         EDUCATION        ASSETS   LIABILITIES  GENERAL\\nVOTES  POSTAL\\nVOTES  \\\n",
       "count  1784.000000  1.784000e+03  1.784000e+03    1.784000e+03    1784.000000   \n",
       "mean      6.837444  1.154792e+08  1.611685e+07    2.728724e+05     799.950673   \n",
       "std       2.015206  3.442890e+08  7.809065e+07    2.442833e+05     922.530129   \n",
       "min       0.000000  0.000000e+00  0.000000e+00    1.365000e+03       0.000000   \n",
       "25%       6.000000  5.398870e+06  0.000000e+00    2.799775e+04      87.000000   \n",
       "50%       7.000000  2.159275e+07  8.000000e+05    2.561535e+05     385.000000   \n",
       "75%       8.000000  8.287406e+07  5.261175e+06    4.848705e+05    1302.500000   \n",
       "max      10.000000  6.601947e+09  1.547511e+09    1.007156e+06    3706.000000   \n",
       "\n",
       "       TOTAL\\nVOTES  TOTAL ELECTORS  \n",
       "count  1.784000e+03    1.784000e+03  \n",
       "mean   2.736723e+05    1.682539e+06  \n",
       "std    2.449340e+05    1.988813e+05  \n",
       "min    1.369000e+03    1.195720e+06  \n",
       "25%    2.812200e+04    1.552019e+06  \n",
       "50%    2.577230e+05    1.685955e+06  \n",
       "75%    4.869738e+05    1.811630e+06  \n",
       "max    1.008936e+06    2.215489e+06  "
      ]
     },
     "execution_count": 34,
     "metadata": {},
     "output_type": "execute_result"
    }
   ],
   "source": [
    "x.describe()"
   ]
  },
  {
   "cell_type": "code",
   "execution_count": 35,
   "id": "6ac2fdea",
   "metadata": {},
   "outputs": [
    {
     "data": {
      "text/html": [
       "<div>\n",
       "<style scoped>\n",
       "    .dataframe tbody tr th:only-of-type {\n",
       "        vertical-align: middle;\n",
       "    }\n",
       "\n",
       "    .dataframe tbody tr th {\n",
       "        vertical-align: top;\n",
       "    }\n",
       "\n",
       "    .dataframe thead th {\n",
       "        text-align: right;\n",
       "    }\n",
       "</style>\n",
       "<table border=\"1\" class=\"dataframe\">\n",
       "  <thead>\n",
       "    <tr style=\"text-align: right;\">\n",
       "      <th></th>\n",
       "      <th>0</th>\n",
       "      <th>1</th>\n",
       "      <th>2</th>\n",
       "      <th>3</th>\n",
       "      <th>4</th>\n",
       "      <th>5</th>\n",
       "      <th>6</th>\n",
       "      <th>7</th>\n",
       "      <th>8</th>\n",
       "      <th>9</th>\n",
       "      <th>10</th>\n",
       "      <th>11</th>\n",
       "    </tr>\n",
       "  </thead>\n",
       "  <tbody>\n",
       "    <tr>\n",
       "      <th>count</th>\n",
       "      <td>1.784000e+03</td>\n",
       "      <td>1.784000e+03</td>\n",
       "      <td>1.784000e+03</td>\n",
       "      <td>1.784000e+03</td>\n",
       "      <td>1.784000e+03</td>\n",
       "      <td>1.784000e+03</td>\n",
       "      <td>1784.000000</td>\n",
       "      <td>1784.000000</td>\n",
       "      <td>1784.000000</td>\n",
       "      <td>1784.000000</td>\n",
       "      <td>1784.000000</td>\n",
       "      <td>1784.000000</td>\n",
       "    </tr>\n",
       "    <tr>\n",
       "      <th>mean</th>\n",
       "      <td>9.140395e-07</td>\n",
       "      <td>1.142524e-07</td>\n",
       "      <td>1.781743e-07</td>\n",
       "      <td>6.211820e-06</td>\n",
       "      <td>1.814389e-07</td>\n",
       "      <td>8.261482e-07</td>\n",
       "      <td>0.875113</td>\n",
       "      <td>0.099796</td>\n",
       "      <td>0.017339</td>\n",
       "      <td>0.000052</td>\n",
       "      <td>0.017390</td>\n",
       "      <td>0.220743</td>\n",
       "    </tr>\n",
       "    <tr>\n",
       "      <th>std</th>\n",
       "      <td>1.446286e-06</td>\n",
       "      <td>1.745238e-07</td>\n",
       "      <td>1.548001e-06</td>\n",
       "      <td>8.456239e-06</td>\n",
       "      <td>2.936206e-07</td>\n",
       "      <td>1.179280e-06</td>\n",
       "      <td>0.243962</td>\n",
       "      <td>0.148170</td>\n",
       "      <td>0.036359</td>\n",
       "      <td>0.000136</td>\n",
       "      <td>0.036463</td>\n",
       "      <td>0.301432</td>\n",
       "    </tr>\n",
       "    <tr>\n",
       "      <th>min</th>\n",
       "      <td>0.000000e+00</td>\n",
       "      <td>0.000000e+00</td>\n",
       "      <td>0.000000e+00</td>\n",
       "      <td>6.664695e-09</td>\n",
       "      <td>0.000000e+00</td>\n",
       "      <td>0.000000e+00</td>\n",
       "      <td>0.000000</td>\n",
       "      <td>0.000000</td>\n",
       "      <td>0.000010</td>\n",
       "      <td>0.000000</td>\n",
       "      <td>0.000010</td>\n",
       "      <td>0.000229</td>\n",
       "    </tr>\n",
       "    <tr>\n",
       "      <th>25%</th>\n",
       "      <td>6.017385e-08</td>\n",
       "      <td>5.839619e-09</td>\n",
       "      <td>0.000000e+00</td>\n",
       "      <td>6.463602e-07</td>\n",
       "      <td>1.104753e-08</td>\n",
       "      <td>7.871690e-08</td>\n",
       "      <td>0.906845</td>\n",
       "      <td>0.000000</td>\n",
       "      <td>0.002044</td>\n",
       "      <td>0.000003</td>\n",
       "      <td>0.002063</td>\n",
       "      <td>0.019905</td>\n",
       "    </tr>\n",
       "    <tr>\n",
       "      <th>50%</th>\n",
       "      <td>2.377376e-07</td>\n",
       "      <td>3.113462e-08</td>\n",
       "      <td>0.000000e+00</td>\n",
       "      <td>2.378857e-06</td>\n",
       "      <td>4.923764e-08</td>\n",
       "      <td>2.923945e-07</td>\n",
       "      <td>0.983595</td>\n",
       "      <td>0.032591</td>\n",
       "      <td>0.005838</td>\n",
       "      <td>0.000011</td>\n",
       "      <td>0.005859</td>\n",
       "      <td>0.074824</td>\n",
       "    </tr>\n",
       "    <tr>\n",
       "      <th>75%</th>\n",
       "      <td>1.009540e-06</td>\n",
       "      <td>1.247117e-07</td>\n",
       "      <td>3.438168e-08</td>\n",
       "      <td>8.159813e-06</td>\n",
       "      <td>2.001983e-07</td>\n",
       "      <td>1.038443e-06</td>\n",
       "      <td>0.997397</td>\n",
       "      <td>0.144317</td>\n",
       "      <td>0.016199</td>\n",
       "      <td>0.000041</td>\n",
       "      <td>0.016259</td>\n",
       "      <td>0.286248</td>\n",
       "    </tr>\n",
       "    <tr>\n",
       "      <th>max</th>\n",
       "      <td>7.867064e-06</td>\n",
       "      <td>7.867064e-07</td>\n",
       "      <td>5.345605e-05</td>\n",
       "      <td>4.669192e-05</td>\n",
       "      <td>1.473839e-06</td>\n",
       "      <td>6.858449e-06</td>\n",
       "      <td>1.000000</td>\n",
       "      <td>0.998665</td>\n",
       "      <td>0.345022</td>\n",
       "      <td>0.002063</td>\n",
       "      <td>0.345528</td>\n",
       "      <td>0.999966</td>\n",
       "    </tr>\n",
       "  </tbody>\n",
       "</table>\n",
       "</div>"
      ],
      "text/plain": [
       "                 0             1             2             3             4   \\\n",
       "count  1.784000e+03  1.784000e+03  1.784000e+03  1.784000e+03  1.784000e+03   \n",
       "mean   9.140395e-07  1.142524e-07  1.781743e-07  6.211820e-06  1.814389e-07   \n",
       "std    1.446286e-06  1.745238e-07  1.548001e-06  8.456239e-06  2.936206e-07   \n",
       "min    0.000000e+00  0.000000e+00  0.000000e+00  6.664695e-09  0.000000e+00   \n",
       "25%    6.017385e-08  5.839619e-09  0.000000e+00  6.463602e-07  1.104753e-08   \n",
       "50%    2.377376e-07  3.113462e-08  0.000000e+00  2.378857e-06  4.923764e-08   \n",
       "75%    1.009540e-06  1.247117e-07  3.438168e-08  8.159813e-06  2.001983e-07   \n",
       "max    7.867064e-06  7.867064e-07  5.345605e-05  4.669192e-05  1.473839e-06   \n",
       "\n",
       "                 5            6            7            8            9   \\\n",
       "count  1.784000e+03  1784.000000  1784.000000  1784.000000  1784.000000   \n",
       "mean   8.261482e-07     0.875113     0.099796     0.017339     0.000052   \n",
       "std    1.179280e-06     0.243962     0.148170     0.036359     0.000136   \n",
       "min    0.000000e+00     0.000000     0.000000     0.000010     0.000000   \n",
       "25%    7.871690e-08     0.906845     0.000000     0.002044     0.000003   \n",
       "50%    2.923945e-07     0.983595     0.032591     0.005838     0.000011   \n",
       "75%    1.038443e-06     0.997397     0.144317     0.016199     0.000041   \n",
       "max    6.858449e-06     1.000000     0.998665     0.345022     0.002063   \n",
       "\n",
       "                10           11  \n",
       "count  1784.000000  1784.000000  \n",
       "mean      0.017390     0.220743  \n",
       "std       0.036463     0.301432  \n",
       "min       0.000010     0.000229  \n",
       "25%       0.002063     0.019905  \n",
       "50%       0.005859     0.074824  \n",
       "75%       0.016259     0.286248  \n",
       "max       0.345528     0.999966  "
      ]
     },
     "execution_count": 35,
     "metadata": {},
     "output_type": "execute_result"
    }
   ],
   "source": [
    "from sklearn import preprocessing\n",
    "x=preprocessing.normalize(x)\n",
    "x=pd.DataFrame(x)\n",
    "x.describe()"
   ]
  },
  {
   "cell_type": "markdown",
   "id": "cfdea03a",
   "metadata": {},
   "source": [
    "# MILESTONE-3 [EXPLORATORY DATA ANALYSIS]"
   ]
  },
  {
   "cell_type": "markdown",
   "id": "a3fde156",
   "metadata": {},
   "source": [
    "# 3.1 MALE V/S FEMALE CANDIDATES"
   ]
  },
  {
   "cell_type": "code",
   "execution_count": 36,
   "id": "e313ea77",
   "metadata": {
    "scrolled": true
   },
   "outputs": [
    {
     "data": {
      "image/png": "[encoded data removed]",
      "text/plain": [
       "<Figure size 432x288 with 1 Axes>"
      ]
     },
     "metadata": {},
     "output_type": "display_data"
    }
   ],
   "source": [
    "males=0\n",
    "females=0\n",
    "for i in data['GENDER']:\n",
    "  if i=='MALE':\n",
    "    males+=1\n",
    "  elif i=='FEMALE':\n",
    "    females+=1\n",
    "z = np.array([males,females])\n",
    "mylabels = [\"MALE\",\"FEMALE\"]\n",
    "plt.pie(z, labels = mylabels, startangle = 90)\n",
    "plt.show() "
   ]
  },
  {
   "cell_type": "markdown",
   "id": "92f8deb1",
   "metadata": {},
   "source": [
    "The no. of male candidates are much higher than female candidates."
   ]
  },
  {
   "cell_type": "markdown",
   "id": "c366a89e",
   "metadata": {},
   "source": [
    "# 3.2 CRIMINAL CASES_STATEWISE"
   ]
  },
  {
   "cell_type": "code",
   "execution_count": 37,
   "id": "359f42f2",
   "metadata": {},
   "outputs": [
    {
     "data": {
      "image/png": "[encoded data removed]",
      "text/plain": [
       "<Figure size 1440x1080 with 2 Axes>"
      ]
     },
     "metadata": {
      "needs_background": "light"
     },
     "output_type": "display_data"
    }
   ],
   "source": [
    "state_criminal = data.groupby('STATE')[['CRIMINAL\\nCASES']].sum().sort_values(by=\n",
    "                        ['CRIMINAL\\nCASES']).tail(15).sort_values(by=['STATE'])\n",
    "\n",
    "state_criminal_winner = data[data['WINNER']>0].groupby('STATE')[['CRIMINAL\\nCASES']].sum().sort_values(by=\n",
    "                        ['CRIMINAL\\nCASES']).tail(15).sort_values(by=['STATE'])\n",
    "\n",
    "fig, axes = plt.subplots(2, 1, figsize=(20, 15))\n",
    "sns.barplot(x = state_criminal.index , y = state_criminal['CRIMINAL\\nCASES'] , ax=axes[0])\n",
    "axes[0].set_title('CRIMINAL CASE OF CANDIDATES_STATE WISE')\n",
    "\n",
    "sns.barplot(x = state_criminal_winner.index , y = state_criminal_winner['CRIMINAL\\nCASES'] , ax=axes[1])\n",
    "axes[1].set_title('CRIMINAL CASE OF WINNERS_STATE WISE')\n",
    "plt.show()"
   ]
  },
  {
   "cell_type": "markdown",
   "id": "5c8924dc",
   "metadata": {},
   "source": [
    "The number of candidates and winners with a criminal background is highest for Kerala, followed by UP and West Bengal."
   ]
  },
  {
   "cell_type": "markdown",
   "id": "055b488f",
   "metadata": {},
   "source": [
    "# 3.3 ANALYSIS OF EDUCATION OF CANDIDATES AND WINNERS"
   ]
  },
  {
   "cell_type": "code",
   "execution_count": 38,
   "id": "f1709355",
   "metadata": {},
   "outputs": [
    {
     "data": {
      "image/png": "[encoded data removed]",
      "text/plain": [
       "<Figure size 1152x432 with 1 Axes>"
      ]
     },
     "metadata": {
      "needs_background": "light"
     },
     "output_type": "display_data"
    }
   ],
   "source": [
    "plt.figure(figsize=(16,6))\n",
    "fig=sns.countplot(x='EDUCATION',hue='WINNER',data=data)\n",
    "plt.title('EDUCATION OF CANDIDATES AND WINNERS')\n",
    "plt.xticks(rotation=90)\n",
    "plt.ylim(0,400)\n",
    "#to get the count displayed on the chart\n",
    "for p in fig.patches:\n",
    "    fig.annotate(round(p.get_height(),2) , (p.get_x()+0.15, p.get_height()+10),rotation=90)\n",
    "plt.show()"
   ]
  },
  {
   "cell_type": "markdown",
   "id": "d14989a7",
   "metadata": {},
   "source": [
    "Significant number of winners have a college degree. This shows people trust in educated candidates."
   ]
  },
  {
   "cell_type": "markdown",
   "id": "572025f0",
   "metadata": {},
   "source": [
    "# 3.4 ANALYSIS OF CATEGORY OF CANDIDATES AND WINNERS"
   ]
  },
  {
   "cell_type": "code",
   "execution_count": 39,
   "id": "1021da2c",
   "metadata": {},
   "outputs": [
    {
     "data": {
      "image/png": "[encoded data removed]",
      "text/plain": [
       "<Figure size 864x720 with 1 Axes>"
      ]
     },
     "metadata": {
      "needs_background": "light"
     },
     "output_type": "display_data"
    }
   ],
   "source": [
    "plt.figure(figsize=(12,10))\n",
    "fig=sns.countplot(x='CATEGORY',hue='WINNER',data=data)\n",
    "plt.title('CATEGORY OF CANDIDATES AND WINNERS')\n",
    "plt.xticks(rotation=90)\n",
    "plt.ylim(0,1000)\n",
    "#to get the count displayed on the chart\n",
    "for p in fig.patches:\n",
    "    fig.annotate(round(p.get_height(),2) , (p.get_x()+0.15, p.get_height()+10),rotation=90)\n",
    "plt.show()"
   ]
  },
  {
   "cell_type": "markdown",
   "id": "fbc5d7e6",
   "metadata": {},
   "source": [
    "The number of winners and candidates in the 'SC' and 'ST' category are very less, which is not a good sign."
   ]
  },
  {
   "cell_type": "markdown",
   "id": "62932012",
   "metadata": {},
   "source": [
    "# 3.5 ANALYSIS OF AGE OF CANDIDATES_PARTYWISE"
   ]
  },
  {
   "cell_type": "code",
   "execution_count": 40,
   "id": "086a25ae",
   "metadata": {},
   "outputs": [
    {
     "data": {
      "image/png": "[encoded data removed]",
      "text/plain": [
       "<Figure size 1152x720 with 1 Axes>"
      ]
     },
     "metadata": {
      "needs_background": "light"
     },
     "output_type": "display_data"
    }
   ],
   "source": [
    "data.loc[~data[\"PARTY\"].isin(['INC','BJP','IND','BSP', 'CPI(M)', 'AITC','VBA','SP','NTK','MNM', 'SHS', 'RJD', 'BJD','AIADMK']), \"PARTY\"] = \"Other\"\n",
    "plt.figure(figsize=(16,10))\n",
    "plt.title('AVERAGE AGE OF CANDIDATES_PARTYWISE')\n",
    "fig=sns.barplot(x='PARTY',y='AGE',ci=None,data=data)\n",
    "plt.xticks(rotation=90)\n",
    "plt.ylim(0,70)\n",
    "#to get the count displayed on the chart\n",
    "for p in fig.patches:\n",
    "    fig.annotate(round(p.get_height(),2) , (p.get_x()+0.25, p.get_height()+1),rotation=90)\n",
    "plt.show()"
   ]
  },
  {
   "cell_type": "markdown",
   "id": "bd929995",
   "metadata": {},
   "source": [
    "The average age of candidates for most parties is around fifties. 'NTK' has the least average age of 38 years."
   ]
  },
  {
   "cell_type": "markdown",
   "id": "f0f2ad42",
   "metadata": {},
   "source": [
    "# MILESTONE-4 [MODELLING]"
   ]
  },
  {
   "cell_type": "code",
   "execution_count": 41,
   "id": "767f029c",
   "metadata": {},
   "outputs": [],
   "source": [
    "from sklearn.model_selection import train_test_split\n",
    "x_train,x_test,y_train,y_test=train_test_split(x,y,random_state=2,test_size=0.2)"
   ]
  },
  {
   "cell_type": "markdown",
   "id": "9f0536ad",
   "metadata": {},
   "source": [
    "# 4.1Logistic regression model"
   ]
  },
  {
   "cell_type": "code",
   "execution_count": 42,
   "id": "4797d407",
   "metadata": {},
   "outputs": [],
   "source": [
    "from sklearn.linear_model import LogisticRegression\n",
    "logit_model=LogisticRegression()\n",
    "logit_model.fit(x_train,y_train)\n",
    "y_pred=logit_model.predict(x_test)"
   ]
  },
  {
   "cell_type": "code",
   "execution_count": 43,
   "id": "d646e05e",
   "metadata": {},
   "outputs": [
    {
     "name": "stdout",
     "output_type": "stream",
     "text": [
      "Confusion matrix\n",
      " [[278   0]\n",
      " [ 79   0]]\n",
      "\n",
      "Classification report\n",
      "               precision    recall  f1-score   support\n",
      "\n",
      "           0       0.78      1.00      0.88       278\n",
      "           1       0.00      0.00      0.00        79\n",
      "\n",
      "    accuracy                           0.78       357\n",
      "   macro avg       0.39      0.50      0.44       357\n",
      "weighted avg       0.61      0.78      0.68       357\n",
      "\n"
     ]
    },
    {
     "name": "stderr",
     "output_type": "stream",
     "text": [
      "C:\\Users\\jacob\\anaconda3\\lib\\site-packages\\sklearn\\metrics\\_classification.py:1245: UndefinedMetricWarning: Precision and F-score are ill-defined and being set to 0.0 in labels with no predicted samples. Use `zero_division` parameter to control this behavior.\n",
      "  _warn_prf(average, modifier, msg_start, len(result))\n",
      "C:\\Users\\jacob\\anaconda3\\lib\\site-packages\\sklearn\\metrics\\_classification.py:1245: UndefinedMetricWarning: Precision and F-score are ill-defined and being set to 0.0 in labels with no predicted samples. Use `zero_division` parameter to control this behavior.\n",
      "  _warn_prf(average, modifier, msg_start, len(result))\n",
      "C:\\Users\\jacob\\anaconda3\\lib\\site-packages\\sklearn\\metrics\\_classification.py:1245: UndefinedMetricWarning: Precision and F-score are ill-defined and being set to 0.0 in labels with no predicted samples. Use `zero_division` parameter to control this behavior.\n",
      "  _warn_prf(average, modifier, msg_start, len(result))\n"
     ]
    }
   ],
   "source": [
    "#evaluating the performance of the model\n",
    "from sklearn.metrics import confusion_matrix,accuracy_score,classification_report\n",
    "print('Confusion matrix\\n',confusion_matrix(y_test,y_pred))\n",
    "print('\\nClassification report\\n',classification_report(y_test,y_pred))"
   ]
  },
  {
   "cell_type": "markdown",
   "id": "21b49716",
   "metadata": {},
   "source": [
    "# 4.2 KNN model"
   ]
  },
  {
   "cell_type": "code",
   "execution_count": 44,
   "id": "f19f1f06",
   "metadata": {},
   "outputs": [
    {
     "data": {
      "image/png": "[encoded data removed]",
      "text/plain": [
       "<Figure size 432x288 with 1 Axes>"
      ]
     },
     "metadata": {
      "needs_background": "light"
     },
     "output_type": "display_data"
    }
   ],
   "source": [
    "from sklearn.neighbors import KNeighborsClassifier\n",
    "\n",
    "#to find optimal k value\n",
    "acc_values=[]\n",
    "for k in np.arange(3,15):\n",
    "    classifier=KNeighborsClassifier(n_neighbors=k,metric='minkowski')\n",
    "    classifier.fit(x_train,y_train)\n",
    "    y_pred=classifier.predict(x_test)\n",
    "    acc=accuracy_score(y_pred,y_test)\n",
    "    acc_values.append(acc)\n",
    "plt.plot(np.arange(3,15),acc_values)\n",
    "plt.show()"
   ]
  },
  {
   "cell_type": "markdown",
   "id": "bb3b9455",
   "metadata": {},
   "source": [
    "k value = 9 will give the most accurate model"
   ]
  },
  {
   "cell_type": "code",
   "execution_count": 45,
   "id": "e16e71f4",
   "metadata": {},
   "outputs": [],
   "source": [
    "classifier=KNeighborsClassifier(n_neighbors=9,metric='minkowski')\n",
    "classifier.fit(x_train,y_train)\n",
    "y_pred=classifier.predict(x_test)"
   ]
  },
  {
   "cell_type": "code",
   "execution_count": 46,
   "id": "b12ceb11",
   "metadata": {},
   "outputs": [
    {
     "name": "stdout",
     "output_type": "stream",
     "text": [
      "Confusion matrix\n",
      " [[259  19]\n",
      " [ 45  34]]\n",
      "\n",
      "Classification report\n",
      "               precision    recall  f1-score   support\n",
      "\n",
      "           0       0.85      0.93      0.89       278\n",
      "           1       0.64      0.43      0.52        79\n",
      "\n",
      "    accuracy                           0.82       357\n",
      "   macro avg       0.75      0.68      0.70       357\n",
      "weighted avg       0.81      0.82      0.81       357\n",
      "\n"
     ]
    }
   ],
   "source": [
    "#evaluating the performance of the model\n",
    "print('Confusion matrix\\n',confusion_matrix(y_test,y_pred))\n",
    "print('\\nClassification report\\n',classification_report(y_test,y_pred))"
   ]
  },
  {
   "cell_type": "markdown",
   "id": "463ddf41",
   "metadata": {},
   "source": [
    "# 4.3 Support Vector Machine"
   ]
  },
  {
   "cell_type": "code",
   "execution_count": 47,
   "id": "d41d544d",
   "metadata": {},
   "outputs": [],
   "source": [
    "#Radial svm\n",
    "from sklearn.svm import SVC\n",
    "svm_linear=SVC(kernel='rbf')\n",
    "svm_linear.fit(x_train,y_train)\n",
    "y_pred=svm_linear.predict(x_test)"
   ]
  },
  {
   "cell_type": "code",
   "execution_count": 48,
   "id": "b56b50c9",
   "metadata": {},
   "outputs": [
    {
     "name": "stdout",
     "output_type": "stream",
     "text": [
      "Confusion matrix\n",
      " [[278   0]\n",
      " [ 79   0]]\n",
      "\n",
      "Classification report\n",
      "               precision    recall  f1-score   support\n",
      "\n",
      "           0       0.78      1.00      0.88       278\n",
      "           1       0.00      0.00      0.00        79\n",
      "\n",
      "    accuracy                           0.78       357\n",
      "   macro avg       0.39      0.50      0.44       357\n",
      "weighted avg       0.61      0.78      0.68       357\n",
      "\n"
     ]
    },
    {
     "name": "stderr",
     "output_type": "stream",
     "text": [
      "C:\\Users\\jacob\\anaconda3\\lib\\site-packages\\sklearn\\metrics\\_classification.py:1245: UndefinedMetricWarning: Precision and F-score are ill-defined and being set to 0.0 in labels with no predicted samples. Use `zero_division` parameter to control this behavior.\n",
      "  _warn_prf(average, modifier, msg_start, len(result))\n",
      "C:\\Users\\jacob\\anaconda3\\lib\\site-packages\\sklearn\\metrics\\_classification.py:1245: UndefinedMetricWarning: Precision and F-score are ill-defined and being set to 0.0 in labels with no predicted samples. Use `zero_division` parameter to control this behavior.\n",
      "  _warn_prf(average, modifier, msg_start, len(result))\n",
      "C:\\Users\\jacob\\anaconda3\\lib\\site-packages\\sklearn\\metrics\\_classification.py:1245: UndefinedMetricWarning: Precision and F-score are ill-defined and being set to 0.0 in labels with no predicted samples. Use `zero_division` parameter to control this behavior.\n",
      "  _warn_prf(average, modifier, msg_start, len(result))\n"
     ]
    }
   ],
   "source": [
    "#evaluating the performance of the model\n",
    "print('Confusion matrix\\n',confusion_matrix(y_test,y_pred))\n",
    "print('\\nClassification report\\n',classification_report(y_test,y_pred))"
   ]
  },
  {
   "cell_type": "markdown",
   "id": "ef2843bd",
   "metadata": {},
   "source": [
    "# 4.4 Decision Tree"
   ]
  },
  {
   "cell_type": "code",
   "execution_count": 49,
   "id": "b38e75bc",
   "metadata": {},
   "outputs": [],
   "source": [
    "from sklearn.tree import DecisionTreeClassifier\n",
    "dt_model=DecisionTreeClassifier()\n",
    "dt_model.fit(x_train,y_train)\n",
    "y_pred=dt_model.predict(x_test)"
   ]
  },
  {
   "cell_type": "code",
   "execution_count": 50,
   "id": "e74a9d21",
   "metadata": {},
   "outputs": [
    {
     "name": "stdout",
     "output_type": "stream",
     "text": [
      "Confusion matrix\n",
      " [[249  29]\n",
      " [ 24  55]]\n",
      "\n",
      "Classification report\n",
      "               precision    recall  f1-score   support\n",
      "\n",
      "           0       0.91      0.90      0.90       278\n",
      "           1       0.65      0.70      0.67        79\n",
      "\n",
      "    accuracy                           0.85       357\n",
      "   macro avg       0.78      0.80      0.79       357\n",
      "weighted avg       0.86      0.85      0.85       357\n",
      "\n"
     ]
    }
   ],
   "source": [
    "#evaluating the performance of the model\n",
    "print('Confusion matrix\\n',confusion_matrix(y_test,y_pred))\n",
    "print('\\nClassification report\\n',classification_report(y_test,y_pred))"
   ]
  },
  {
   "cell_type": "markdown",
   "id": "0fbad75b",
   "metadata": {},
   "source": [
    "# 4.5 Random Forest Model"
   ]
  },
  {
   "cell_type": "code",
   "execution_count": 51,
   "id": "d228772c",
   "metadata": {},
   "outputs": [],
   "source": [
    "from sklearn.ensemble import RandomForestClassifier\n",
    "rf=RandomForestClassifier()\n",
    "rf.fit(x_train,y_train)\n",
    "y_pred=rf.predict(x_test)"
   ]
  },
  {
   "cell_type": "code",
   "execution_count": 52,
   "id": "d5f97065",
   "metadata": {},
   "outputs": [
    {
     "name": "stdout",
     "output_type": "stream",
     "text": [
      "Confusion matrix\n",
      " [[268  10]\n",
      " [ 32  47]]\n",
      "\n",
      "Classification report\n",
      "               precision    recall  f1-score   support\n",
      "\n",
      "           0       0.89      0.96      0.93       278\n",
      "           1       0.82      0.59      0.69        79\n",
      "\n",
      "    accuracy                           0.88       357\n",
      "   macro avg       0.86      0.78      0.81       357\n",
      "weighted avg       0.88      0.88      0.88       357\n",
      "\n"
     ]
    }
   ],
   "source": [
    "#evaluating the performance of the model\n",
    "print('Confusion matrix\\n',confusion_matrix(y_test,y_pred))\n",
    "print('\\nClassification report\\n',classification_report(y_test,y_pred))"
   ]
  },
  {
   "cell_type": "markdown",
   "id": "4f7e5704",
   "metadata": {},
   "source": [
    "# 4.6 Extreme gradient boosting"
   ]
  },
  {
   "cell_type": "code",
   "execution_count": 53,
   "id": "89969101",
   "metadata": {},
   "outputs": [
    {
     "name": "stdout",
     "output_type": "stream",
     "text": [
      "[21:45:18] WARNING: ..\\src\\learner.cc:1115: Starting in XGBoost 1.3.0, the default evaluation metric used with the objective 'binary:logistic' was changed from 'error' to 'logloss'. Explicitly set eval_metric if you'd like to restore the old behavior.\n"
     ]
    },
    {
     "name": "stderr",
     "output_type": "stream",
     "text": [
      "C:\\Users\\jacob\\anaconda3\\lib\\site-packages\\xgboost\\sklearn.py:1224: UserWarning: The use of label encoder in XGBClassifier is deprecated and will be removed in a future release. To remove this warning, do the following: 1) Pass option use_label_encoder=False when constructing XGBClassifier object; and 2) Encode your labels (y) as integers starting with 0, i.e. 0, 1, 2, ..., [num_class - 1].\n",
      "  warnings.warn(label_encoder_deprecation_msg, UserWarning)\n"
     ]
    }
   ],
   "source": [
    "from xgboost import XGBClassifier\n",
    "xgb=XGBClassifier()\n",
    "xgb.fit(x_train,y_train)\n",
    "y_pred=xgb.predict(x_test)"
   ]
  },
  {
   "cell_type": "code",
   "execution_count": 54,
   "id": "10e0b9dc",
   "metadata": {},
   "outputs": [
    {
     "name": "stdout",
     "output_type": "stream",
     "text": [
      "Confusion matrix\n",
      " [[260  18]\n",
      " [ 23  56]]\n",
      "\n",
      "Classification report\n",
      "               precision    recall  f1-score   support\n",
      "\n",
      "           0       0.92      0.94      0.93       278\n",
      "           1       0.76      0.71      0.73        79\n",
      "\n",
      "    accuracy                           0.89       357\n",
      "   macro avg       0.84      0.82      0.83       357\n",
      "weighted avg       0.88      0.89      0.88       357\n",
      "\n"
     ]
    }
   ],
   "source": [
    "#evaluating the performance of the model\n",
    "print('Confusion matrix\\n',confusion_matrix(y_test,y_pred))\n",
    "print('\\nClassification report\\n',classification_report(y_test,y_pred))"
   ]
  },
  {
   "cell_type": "markdown",
   "id": "289d199f",
   "metadata": {},
   "source": [
    "# MILESTONE-5 [FINE TUNING OF HYPER PARAMETERS]"
   ]
  },
  {
   "cell_type": "markdown",
   "id": "18420068",
   "metadata": {},
   "source": [
    "Fine tuning can be done for the Random Forest Model."
   ]
  },
  {
   "cell_type": "code",
   "execution_count": 67,
   "id": "8e242ea0",
   "metadata": {},
   "outputs": [],
   "source": [
    "# Number of trees in random forest\n",
    "n_estimators = [100]\n",
    "# Number of features to consider at every split\n",
    "max_features = ['auto','sqrt']\n",
    "# Maximum number of levels in tree\n",
    "max_depth = [70,80]\n",
    "# Minimum number of samples required to split a node\n",
    "min_samples_split = [2,3,4]\n",
    "# Minimum number of samples required at each leaf node\n",
    "min_samples_leaf = [1,2]\n",
    "# Method of selecting samples for training each tree\n",
    "bootstrap = [True, False]"
   ]
  },
  {
   "cell_type": "code",
   "execution_count": 68,
   "id": "d6051bd1",
   "metadata": {},
   "outputs": [
    {
     "name": "stdout",
     "output_type": "stream",
     "text": [
      "{'n_estimators': [100], 'max_features': ['auto', 'sqrt'], 'max_depth': [70, 80], 'min_samples_split': [2, 3, 4], 'min_samples_leaf': [1, 2], 'bootstrap': [True, False]}\n"
     ]
    }
   ],
   "source": [
    "# Create the param grid\n",
    "param_grid = {'n_estimators': n_estimators,\n",
    "               'max_features': max_features,\n",
    "               'max_depth': max_depth,\n",
    "               'min_samples_split': min_samples_split,\n",
    "               'min_samples_leaf': min_samples_leaf,\n",
    "               'bootstrap': bootstrap}\n",
    "print(param_grid)"
   ]
  },
  {
   "cell_type": "code",
   "execution_count": 80,
   "id": "bd083ef4",
   "metadata": {},
   "outputs": [],
   "source": [
    "from sklearn.model_selection import GridSearchCV\n",
    "rf_Grid = GridSearchCV(estimator = rf, param_grid = param_grid, verbose=2,n_jobs=4,cv=3)"
   ]
  },
  {
   "cell_type": "code",
   "execution_count": 81,
   "id": "63fa5c5e",
   "metadata": {},
   "outputs": [
    {
     "name": "stdout",
     "output_type": "stream",
     "text": [
      "Fitting 3 folds for each of 48 candidates, totalling 144 fits\n"
     ]
    },
    {
     "data": {
      "text/plain": [
       "GridSearchCV(cv=3, estimator=RandomForestClassifier(), n_jobs=4,\n",
       "             param_grid={'bootstrap': [True, False], 'max_depth': [70, 80],\n",
       "                         'max_features': ['auto', 'sqrt'],\n",
       "                         'min_samples_leaf': [1, 2],\n",
       "                         'min_samples_split': [2, 3, 4],\n",
       "                         'n_estimators': [100]},\n",
       "             verbose=2)"
      ]
     },
     "execution_count": 81,
     "metadata": {},
     "output_type": "execute_result"
    }
   ],
   "source": [
    "rf_Grid.fit(x_train, y_train)"
   ]
  },
  {
   "cell_type": "code",
   "execution_count": 82,
   "id": "ffb66267",
   "metadata": {},
   "outputs": [
    {
     "data": {
      "text/plain": [
       "{'bootstrap': True,\n",
       " 'max_depth': 80,\n",
       " 'max_features': 'sqrt',\n",
       " 'min_samples_leaf': 1,\n",
       " 'min_samples_split': 2,\n",
       " 'n_estimators': 100}"
      ]
     },
     "execution_count": 82,
     "metadata": {},
     "output_type": "execute_result"
    }
   ],
   "source": [
    "rf_Grid.best_params_"
   ]
  },
  {
   "cell_type": "code",
   "execution_count": 83,
   "id": "ca53ad9b",
   "metadata": {},
   "outputs": [
    {
     "name": "stdout",
     "output_type": "stream",
     "text": [
      "Test Accuracy - : 0.896\n"
     ]
    }
   ],
   "source": [
    "print (f'Test Accuracy - : {rf_Grid.score(x_test,y_test):.3f}')"
   ]
  },
  {
   "cell_type": "markdown",
   "id": "84229d92",
   "metadata": {},
   "source": [
    "The accuracy of the model has improved after fine tuning."
   ]
  },
  {
   "cell_type": "code",
   "execution_count": null,
   "id": "b7131971",
   "metadata": {},
   "outputs": [],
   "source": []
  }
 ],
 "metadata": {
  "kernelspec": {
   "display_name": "Python 3",
   "language": "python",
   "name": "python3"
  },
  "language_info": {
   "codemirror_mode": {
    "name": "ipython",
    "version": 3
   },
   "file_extension": ".py",
   "mimetype": "text/x-python",
   "name": "python",
   "nbconvert_exporter": "python",
   "pygments_lexer": "ipython3",
   "version": "3.8.8"
  }
 },
 "nbformat": 4,
 "nbformat_minor": 5
}
